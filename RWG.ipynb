{
 "cells": [
  {
   "cell_type": "code",
   "execution_count": 1,
   "metadata": {},
   "outputs": [],
   "source": [
    "from os.path import dirname, join as pjoin\n",
    "import scipy.io as sio\n",
    "from scipy.linalg import solve\n",
    "import numpy as np"
   ]
  },
  {
   "cell_type": "markdown",
   "metadata": {},
   "source": [
    "# RWG1 Geometry calculations - all Chapters\n",
    "Uses the structure mesh file, e.g. platefine.mat, as an input.\n",
    "\n",
    "Creates the RWG edge element for every inner edge of the structure. The total number of elements is EdgesTotal.\n",
    "\n",
    "Outputs the following arrays:\n",
    "\n",
    "Edge first node number          \n",
    "\n",
    "    Edge_(1,1:EdgesTotal)\n",
    "   \n",
    "Edge second node number  \n",
    "\n",
    "    Edge_(2,1:EdgesTotal)\n",
    "    \n",
    "Plus triangle number  \n",
    "\n",
    "    TrianglePlus(1:EdgesTotal)\n",
    "   \n",
    "Minus triangle number           \n",
    "\n",
    "    TriangleMinus(1:EdgesTotal)\n",
    "   \n",
    "Edge length                     \n",
    "\n",
    "    EdgeLength(1:EdgesTotal)\n",
    "   \n",
    "Edge element indicator          \n",
    "    \n",
    "    EdgeIndicator(1:EdgesTotal)\n",
    "\n",
    "Also outputs areas and midpoints of separate triangles:\n",
    "\n",
    "Triangle area                   \n",
    "\n",
    "    Area(1:TrianglesTotal)\n",
    "   \n",
    "Triangle center                 \n",
    "\n",
    "    Center(1:TrianglesTotal)      \n",
    "   \n",
    "This script may handle surfaces with T-junctions including monopoles over various metal surfaces and certain metal meshes\n",
    "\n",
    "Copyright 2002 AEMM. Revision 2002/03/09 Chapter 2\n"
   ]
  },
  {
   "cell_type": "code",
   "execution_count": 2,
   "metadata": {},
   "outputs": [],
   "source": [
    "mat_fname = pjoin('mesh', 'strip2.mat')\n",
    "\n",
    "print(mat_fname)\n",
    "\n",
    "mat_contents = sio.loadmat(mat_fname)"
   ]
  },
  {
   "cell_type": "code",
   "execution_count": 3,
   "metadata": {},
   "outputs": [],
   "source": [
    "p = mat_contents['p']\n",
    "t = mat_contents['t']"
   ]
  },
  {
   "cell_type": "code",
   "execution_count": 4,
   "metadata": {},
   "outputs": [],
   "source": [
    "[s1,s2] = p.shape\n",
    "if s1 == 2:\n",
    "    print(\"Add third dimension\")\n",
    "    p = np.append(p,np.zeros((1,s2)),axis=0) "
   ]
  },
  {
   "cell_type": "code",
   "execution_count": 5,
   "metadata": {},
   "outputs": [],
   "source": [
    "TrianglesTotal=t.shape[1]\n",
    "TrianglesTotal"
   ]
  },
  {
   "cell_type": "markdown",
   "metadata": {},
   "source": [
    "Find areas of separate triangles"
   ]
  },
  {
   "cell_type": "code",
   "execution_count": 6,
   "metadata": {},
   "outputs": [],
   "source": [
    "Area = np.zeros(TrianglesTotal)\n",
    "Center = np.zeros((3,TrianglesTotal))\n",
    "for m in range(TrianglesTotal):\n",
    "    N = t[0:3,m] - 1\n",
    "    #print(N)\n",
    "    Vec1 = p[:,N[0]] - p[:,N[1]]\n",
    "    Vec2 = p[:,N[2]] - p[:,N[1]]\n",
    "    Area[m] = np.linalg.norm(np.cross(Vec1,Vec2))/2\n",
    "    Center[:,m] = 1/3*sum(np.transpose(np.array(p[:,N])))"
   ]
  },
  {
   "cell_type": "markdown",
   "metadata": {},
   "source": [
    "Find all edge elements \"Edge_\" with at least two adjacent triangles"
   ]
  },
  {
   "cell_type": "code",
   "execution_count": 7,
   "metadata": {},
   "outputs": [],
   "source": [
    "n = 0\n",
    "Edge_l = []\n",
    "TrianglePlus = []\n",
    "TriangleMinus = []\n",
    "for m in range(TrianglesTotal):\n",
    "    N = t[0:3,m] - 1 \n",
    "    for k in range(m+1,TrianglesTotal):\n",
    "        M = t[0:3,k] - 1      \n",
    "        a = 1 - np.array([1 if i else 0 for i in [all(N-M[0]),all(N-M[1]),all(N-M[2])]])\n",
    "        if(sum(a)==2): #triangles m and k have common edge\n",
    "            Edge_l.append([M[i] for i,j in enumerate(a) if j]); \n",
    "            TrianglePlus.append(m);\n",
    "            TriangleMinus.append(k); \n",
    "            n = n + 1;"
   ]
  },
  {
   "cell_type": "code",
   "execution_count": 8,
   "metadata": {},
   "outputs": [
    {
     "data": {
      "text/plain": [
       "255"
      ]
     },
     "execution_count": 8,
     "metadata": {},
     "output_type": "execute_result"
    }
   ],
   "source": [
    "Edge_ = np.transpose(np.array(Edge_l))\n",
    "Edge__ = np.transpose(np.array([[i[1], i[0]] for i in Edge_l]))\n",
    "\n",
    "EdgesTotal = len(Edge_l)\n",
    "EdgesTotal"
   ]
  },
  {
   "cell_type": "markdown",
   "metadata": {},
   "source": [
    "This block is only meaningful for T junctions. It leaves only two edge elements at a junction"
   ]
  },
  {
   "cell_type": "code",
   "execution_count": 9,
   "metadata": {},
   "outputs": [],
   "source": [
    "Remove = []\n",
    "for m in range(1,EdgesTotal):\n",
    "    Edge_m = np.transpose(np.tile([np.array(Edge_)[:,m]],(EdgesTotal,1)))\n",
    "    Edge_sup = list(Edge_  -Edge_m)\n",
    "    Edge__sup = list(Edge__  -Edge_m)\n",
    "    Ind1 = [0 if (Edge_sup[0][i] == 0) and (Edge_sup[1][i] == 0) else 1 for i in range(EdgesTotal)]\n",
    "    Ind2 = [0 if (Edge__sup[0][i] == 0) and (Edge__sup[1][i] == 0) else 1 for i in range(EdgesTotal)]\n",
    "    A_ = [i*j for i,j in zip(Ind1,Ind2)]\n",
    "    A = [i for i,j in enumerate(A_) if j == 0]\n",
    "    if(len(A)==3):    #three elements formally exist at a junction   \n",
    "        print(\"There is a junction!! Stop!!\")\n",
    "        #Out=find(t(4,TrianglePlus(A))==t(4,TriangleMinus(A)));\n",
    "        #Remove=[Remove A(Out)];\n",
    "\n",
    "#np.array(list(Edge_).pop(Remove))\n",
    "#TrianglePlus.pop(Remove)\n",
    "#TriangleMinus.pop(Remove)\n",
    "#EdgesTotal=len(Edge_)\n",
    "\n",
    "EdgeIndicator = np.transpose(t[3,TrianglePlus] + t[3,TriangleMinus])"
   ]
  },
  {
   "cell_type": "markdown",
   "metadata": {},
   "source": [
    "Find edges' length"
   ]
  },
  {
   "cell_type": "code",
   "execution_count": 10,
   "metadata": {},
   "outputs": [],
   "source": [
    "EdgeLength = np.zeros(EdgesTotal)\n",
    "for m in range(EdgesTotal):\n",
    "    EdgeLength[m]=np.linalg.norm(p[:,Edge_[0,m]]-p[:,Edge_[1,m]])"
   ]
  },
  {
   "cell_type": "code",
   "execution_count": 11,
   "metadata": {},
   "outputs": [
    {
     "data": {
      "text/plain": [
       "(3, 244)"
      ]
     },
     "execution_count": 11,
     "metadata": {},
     "output_type": "execute_result"
    }
   ],
   "source": [
    "Center.shape"
   ]
  },
  {
   "cell_type": "markdown",
   "metadata": {},
   "source": [
    "# RWG2: Geometry calculations - all Chapters\n",
    "Uses the mesh file from RWG1, mesh1.mat, as an input.\n",
    "\n",
    "Creates the following parameters of the RWG edge elements: \n",
    "\n",
    "Position vector rho_c_plus from the free vertex of the \"plus\" triangle to its center\n",
    "\n",
    "                                   RHO_Plus(1:3,1:EdgesTotal)\n",
    "                                   \n",
    "Position vector rho_c_minus from the center of the \"minus\" triangle to its free vertex \n",
    "\n",
    "                                   RHO_Minus(1:3,1:EdgesTotal)\n",
    "\n",
    "In addition to these parameters creates the following arrays for nine subtriangles (barycentric subdivision):\n",
    "\n",
    "Midpoints of nine subtriangles\n",
    "\n",
    "                                   Center_(1:3,1:9,1:TrianglesTotal)  \n",
    "                                   \n",
    "Position vectors rho_c_plus from the free vertex of the \"plus\" triangle to nine subtriangle midpoints\n",
    "\n",
    "                                   RHO__Plus(1:3,1:9,1:EdgesTotal)\n",
    "                                   \n",
    "Position vectors rho_c_minus from nine subtriangle midpoints to the free vertex of the \"minus\" triangle\n",
    "\n",
    "                                   RHO__Minus(1:3,1:9,1:EdgesTotal)\n",
    "\n",
    "See Rao, Wilton, Glisson, IEEE Trans. Antennas and Propagation, vol. AP-30, No 3, pp. 409-418, 1982.\n",
    "\n",
    "Copyright 2002 AEMM. Revision 2002/03/05 \n",
    "Chapter 2"
   ]
  },
  {
   "cell_type": "code",
   "execution_count": 12,
   "metadata": {},
   "outputs": [],
   "source": [
    "IMT=[]\n",
    "for m in range(TrianglesTotal):\n",
    "    n1 = t[0,m] - 1\n",
    "    n2 = t[1,m] - 1\n",
    "    n3 = t[2,m] - 1\n",
    "    M = Center[:,m]\n",
    "    r1 = p[:,n1]\n",
    "    r2 = p[:,n2]\n",
    "    r3 = p[:,n3]\n",
    "    r12 = r2-r1\n",
    "    r23 = r3-r2\n",
    "    r13 = r3-r1\n",
    "    C1 = r1 + (1/3)*r12\n",
    "    C2 = r1+(2/3)*r12\n",
    "    C3 = r2+(1/3)*r23\n",
    "    C4 = r2+(2/3)*r23\n",
    "    C5 = r1+(1/3)*r13\n",
    "    C6 = r1+(2/3)*r13\n",
    "    a1 = np.transpose([1/3*(C1+C5+r1)])\n",
    "    a2 = np.transpose([1/3*(C1+C2+M)])\n",
    "    a3 = np.transpose([1/3*(C2+C3+r2)])\n",
    "    a4 = np.transpose([1/3*(C2+C3+M)])\n",
    "    a5 = np.transpose([1/3*(C3+C4+M)])\n",
    "    a6 = np.transpose([1/3*(C1+C5+M)])\n",
    "    a7 = np.transpose([1/3*(C5+C6+M)])\n",
    "    a8 = np.transpose([1/3*(C4+C6+M)])\n",
    "    a9 = np.transpose([1/3*(C4+C6+r3)])\n",
    "    if m == 0:\n",
    "        Center_ = [np.concatenate((a1,a2,a3,a4,a5,a6,a7,a8,a9), axis=1)]\n",
    "    else:\n",
    "        Center_ = np.concatenate((Center_,[np.concatenate((a1,a2,a3,a4,a5,a6,a7,a8,a9), axis=1)]), axis = 0)\n",
    "        \n",
    "Center_ = Center_.transpose(1,2,0)\n"
   ]
  },
  {
   "cell_type": "code",
   "execution_count": 13,
   "metadata": {},
   "outputs": [
    {
     "data": {
      "text/plain": [
       "(3, 9, 244)"
      ]
     },
     "execution_count": 13,
     "metadata": {},
     "output_type": "execute_result"
    }
   ],
   "source": [
    "Center_.shape"
   ]
  },
  {
   "cell_type": "code",
   "execution_count": 14,
   "metadata": {},
   "outputs": [
    {
     "data": {
      "text/plain": [
       "array([[ 0.00666667,  0.        , -0.00666667, -0.00333333, -0.00333333,\n",
       "         0.00333333,  0.00333333,  0.        ,  0.        ],\n",
       "       [ 0.99927397,  0.99927397,  0.99927397,  0.99854794,  0.99709588,\n",
       "         0.99854794,  0.99709588,  0.99636985,  0.9949178 ],\n",
       "       [ 0.        ,  0.        ,  0.        ,  0.        ,  0.        ,\n",
       "         0.        ,  0.        ,  0.        ,  0.        ]])"
      ]
     },
     "execution_count": 14,
     "metadata": {},
     "output_type": "execute_result"
    }
   ],
   "source": [
    "Center_[:,:,0]"
   ]
  },
  {
   "cell_type": "markdown",
   "metadata": {},
   "source": [
    "### PLUS"
   ]
  },
  {
   "cell_type": "code",
   "execution_count": 15,
   "metadata": {},
   "outputs": [],
   "source": [
    "for m in range(EdgesTotal):\n",
    "    NoPlus=TrianglePlus[m]\n",
    "    n1 = t[0,NoPlus] - 1\n",
    "    n2 = t[1,NoPlus] - 1\n",
    "    n3 = t[2,NoPlus] - 1\n",
    "    if((n1 != Edge_[0,m])&(n1 != Edge_[1,m])): \n",
    "        NODE=n1\n",
    "    if((n2 != Edge_[0,m])&(n2 != Edge_[1,m])): \n",
    "        NODE=n2\n",
    "    if((n3 != Edge_[0,m])&(n3 != Edge_[1,m])): \n",
    "        NODE=n3\n",
    "    FreeVertex=p[:,NODE]\n",
    "    \n",
    "    if m == 0:\n",
    "        RHO_Plus   = [Center[:,NoPlus]-FreeVertex]\n",
    "        #Nine rho's of the \"plus\" triangle\n",
    "        RHO__Plus  = [Center_[:,:,NoPlus] - np.transpose(np.tile([FreeVertex],(9,1)))]\n",
    "    else:\n",
    "        RHO_Plus   = np.concatenate((RHO_Plus,[Center[:,NoPlus]-FreeVertex]), axis = 0)\n",
    "        RHO__Plus  = np.concatenate((RHO__Plus,[Center_[:,:,NoPlus] - np.transpose(np.tile([FreeVertex],(9,1)))]), axis = 0)\n",
    "\n",
    "RHO_Plus = RHO_Plus.transpose(1,0)\n",
    "RHO__Plus = RHO__Plus.transpose(1,2,0)"
   ]
  },
  {
   "cell_type": "code",
   "execution_count": 16,
   "metadata": {},
   "outputs": [
    {
     "data": {
      "text/plain": [
       "(3, 255)"
      ]
     },
     "execution_count": 16,
     "metadata": {},
     "output_type": "execute_result"
    }
   ],
   "source": [
    "RHO_Plus.shape"
   ]
  },
  {
   "cell_type": "code",
   "execution_count": 17,
   "metadata": {},
   "outputs": [
    {
     "data": {
      "text/plain": [
       "array([[ 0.01666667,  0.01      ,  0.00333333,  0.00666667,  0.00666667,\n",
       "         0.01333333,  0.01333333,  0.01      ,  0.01      ],\n",
       "       [-0.00072603, -0.00072603, -0.00072603, -0.00145206, -0.00290412,\n",
       "        -0.00145206, -0.00290412, -0.00363015, -0.0050822 ],\n",
       "       [ 0.        ,  0.        ,  0.        ,  0.        ,  0.        ,\n",
       "         0.        ,  0.        ,  0.        ,  0.        ]])"
      ]
     },
     "execution_count": 17,
     "metadata": {},
     "output_type": "execute_result"
    }
   ],
   "source": [
    "RHO__Plus[:,:,0]"
   ]
  },
  {
   "cell_type": "code",
   "execution_count": 18,
   "metadata": {},
   "outputs": [
    {
     "data": {
      "text/plain": [
       "(3, 9, 255)"
      ]
     },
     "execution_count": 18,
     "metadata": {},
     "output_type": "execute_result"
    }
   ],
   "source": [
    "RHO__Plus.shape"
   ]
  },
  {
   "cell_type": "code",
   "execution_count": 19,
   "metadata": {},
   "outputs": [],
   "source": [
    "m = 0\n",
    "NoPlus=TrianglePlus[m]\n",
    "n1 = t[0,NoPlus] - 1\n",
    "n2 = t[1,NoPlus] - 1\n",
    "n3 = t[2,NoPlus] - 1\n",
    "if((n1 != Edge_[0,m])&(n1 != Edge_[1,m])): \n",
    "    NODE=n1\n",
    "if((n2 != Edge_[0,m])&(n2 != Edge_[1,m])): \n",
    "    NODE=n2\n",
    "if((n3 != Edge_[0,m])&(n3 != Edge_[1,m])): \n",
    "    NODE=n3\n",
    "FreeVertex=p[:,NODE]"
   ]
  },
  {
   "cell_type": "markdown",
   "metadata": {},
   "source": [
    "### MINUS"
   ]
  },
  {
   "cell_type": "code",
   "execution_count": 20,
   "metadata": {},
   "outputs": [],
   "source": [
    "for m in range(EdgesTotal):\n",
    "    NoMinus=TriangleMinus[m]\n",
    "    n1 = t[0,NoMinus] - 1\n",
    "    n2 = t[1,NoMinus] - 1\n",
    "    n3 = t[2,NoMinus] - 1\n",
    "    if((n1 != Edge_[0,m])&(n1 != Edge_[1,m])): \n",
    "        NODE=n1\n",
    "    if((n2 != Edge_[0,m])&(n2 != Edge_[1,m])): \n",
    "        NODE=n2\n",
    "    if((n3 != Edge_[0,m])&(n3 != Edge_[1,m])): \n",
    "        NODE=n3\n",
    "    FreeVertex=p[:,NODE]\n",
    "    \n",
    "    if m == 0:\n",
    "        RHO_Minus   = [-Center[:,NoMinus] + FreeVertex]\n",
    "        #Nine rho's of the \"plus\" triangle\n",
    "        RHO__Minus  = [-Center_[:,:,NoMinus] + np.transpose(np.tile([FreeVertex],(9,1)))]\n",
    "    else:\n",
    "        RHO_Minus   = np.concatenate((RHO_Minus,[-Center[:,NoMinus] + FreeVertex]), axis = 0)\n",
    "        RHO__Minus  = np.concatenate((RHO__Minus,[-Center_[:,:,NoMinus] + np.transpose(np.tile([FreeVertex],(9,1)))]), axis = 0)\n",
    "\n",
    "RHO_Minus = RHO_Minus.transpose(1,0)\n",
    "RHO__Minus = RHO__Minus.transpose(1,2,0)"
   ]
  },
  {
   "cell_type": "code",
   "execution_count": 21,
   "metadata": {},
   "outputs": [
    {
     "data": {
      "text/plain": [
       "(3, 255)"
      ]
     },
     "execution_count": 21,
     "metadata": {},
     "output_type": "execute_result"
    }
   ],
   "source": [
    "RHO_Minus.shape"
   ]
  },
  {
   "cell_type": "code",
   "execution_count": 22,
   "metadata": {},
   "outputs": [
    {
     "data": {
      "text/plain": [
       "(3, 9, 255)"
      ]
     },
     "execution_count": 22,
     "metadata": {},
     "output_type": "execute_result"
    }
   ],
   "source": [
    "RHO__Minus.shape"
   ]
  },
  {
   "cell_type": "code",
   "execution_count": 23,
   "metadata": {},
   "outputs": [
    {
     "data": {
      "text/plain": [
       "(3, 255)"
      ]
     },
     "execution_count": 23,
     "metadata": {},
     "output_type": "execute_result"
    }
   ],
   "source": [
    "RHO_Minus.shape"
   ]
  },
  {
   "cell_type": "markdown",
   "metadata": {},
   "source": [
    "# RWG3 Calculates the impedance matrix using function IMPMET\n",
    "   Uses the mesh file from RWG2, mesh2.mat, as an input.\n",
    "\n",
    "The following parameters need to be specified prior to calculations:\n",
    "\n",
    "Frequency (Hz)                  f\n",
    "\n",
    "Dielectric constant (SI)        epsilon_\n",
    "\n",
    "Magnetic permeability (SI)      mu_\n",
    "\n",
    "Copyright 2002 AEMM. Revision 2002/03/11 \n",
    "Chapter 2"
   ]
  },
  {
   "cell_type": "markdown",
   "metadata": {},
   "source": [
    "EM parameters (f=3e8 means that f=300 MHz) "
   ]
  },
  {
   "cell_type": "code",
   "execution_count": 24,
   "metadata": {},
   "outputs": [],
   "source": [
    "f           = 75e6 \n",
    "epsilon_    = 8.854e-012\n",
    "mu_         = 1.257e-006"
   ]
  },
  {
   "cell_type": "markdown",
   "metadata": {},
   "source": [
    "Speed of light"
   ]
  },
  {
   "cell_type": "code",
   "execution_count": 25,
   "metadata": {},
   "outputs": [],
   "source": [
    "c_=1/np.sqrt(epsilon_*mu_)"
   ]
  },
  {
   "cell_type": "markdown",
   "metadata": {},
   "source": [
    "Free-space impedance"
   ]
  },
  {
   "cell_type": "code",
   "execution_count": 26,
   "metadata": {},
   "outputs": [],
   "source": [
    "eta_=np.sqrt(mu_/epsilon_)"
   ]
  },
  {
   "cell_type": "markdown",
   "metadata": {},
   "source": [
    "Contemporary variables - introduced to speed up the impedance matrix calculation"
   ]
  },
  {
   "cell_type": "code",
   "execution_count": 27,
   "metadata": {},
   "outputs": [],
   "source": [
    "omega       =2*np.pi*f                                        \n",
    "k           =omega/c_\n",
    "K           =1j*k\n",
    "Constant1   =mu_/(4*np.pi)\n",
    "Constant2   =1/(1j*4*np.pi*omega*epsilon_)\n",
    "Factor      =1/9"
   ]
  },
  {
   "cell_type": "code",
   "execution_count": 28,
   "metadata": {},
   "outputs": [],
   "source": [
    "FactorA     =Factor*(1j*omega*EdgeLength/4)*Constant1\n",
    "FactorFi    =Factor*EdgeLength*Constant2"
   ]
  },
  {
   "cell_type": "code",
   "execution_count": 29,
   "metadata": {},
   "outputs": [],
   "source": [
    "for m in range(EdgesTotal):\n",
    "    if m == 0:\n",
    "        RHO_P=[np.transpose(np.tile([RHO_Plus[:,m]],(9,1)))]   #[3 9 EdgesTotal]\n",
    "        RHO_M=[np.transpose(np.tile([RHO_Minus[:,m]],(9,1)))]  #[3 9 EdgesTotal]\n",
    "    else:\n",
    "        RHO_P=np.concatenate((RHO_P,[np.transpose(np.tile([RHO_Plus[:,m]],(9,1)))]), axis = 0)   #[3 9 EdgesTotal]\n",
    "        RHO_M=np.concatenate((RHO_M,[np.transpose(np.tile([RHO_Minus[:,m]],(9,1)))]), axis = 0)  #[3 9 EdgesTotal]\n",
    "        \n",
    "RHO_P = RHO_P.transpose(1,2,0)\n",
    "RHO_M = RHO_M.transpose(1,2,0)"
   ]
  },
  {
   "cell_type": "code",
   "execution_count": 30,
   "metadata": {},
   "outputs": [
    {
     "data": {
      "text/plain": [
       "(3, 9, 255)"
      ]
     },
     "execution_count": 30,
     "metadata": {},
     "output_type": "execute_result"
    }
   ],
   "source": [
    "RHO_M.shape"
   ]
  },
  {
   "cell_type": "code",
   "execution_count": 31,
   "metadata": {},
   "outputs": [
    {
     "data": {
      "text/plain": [
       "array([[-0.00333333, -0.00333333, -0.00333333, -0.00333333, -0.00333333,\n",
       "        -0.00333333, -0.00333333, -0.00333333, -0.00333333],\n",
       "       [-0.00367173, -0.00367173, -0.00367173, -0.00367173, -0.00367173,\n",
       "        -0.00367173, -0.00367173, -0.00367173, -0.00367173],\n",
       "       [ 0.        ,  0.        ,  0.        ,  0.        ,  0.        ,\n",
       "         0.        ,  0.        ,  0.        ,  0.        ]])"
      ]
     },
     "execution_count": 31,
     "metadata": {},
     "output_type": "execute_result"
    }
   ],
   "source": [
    "RHO_M[:,:,3]"
   ]
  },
  {
   "cell_type": "code",
   "execution_count": 32,
   "metadata": {},
   "outputs": [],
   "source": [
    "FactorA = FactorA[np.newaxis].T\n",
    "FactorFi = FactorFi[np.newaxis].T"
   ]
  },
  {
   "cell_type": "markdown",
   "metadata": {},
   "source": [
    "## Impedance matrix Z\n",
    "### IMPMET Standard impedance matrix (metal surface)\n",
    "\n",
    "Returns the complex impedance matrix \n",
    "\n",
    "    [EdgesTotal x EdgesTotal]\n",
    "    \n",
    "Uses 9 integration points for every triangle \n",
    "(barycentric subdivision)\n",
    "\n",
    "The impedance matrix is calculated as a sum of the contributions due to separate triangles (similar to the \"face-pair\" method). \n",
    "See Appendix B for a detailed algorithm.\n",
    " \n",
    "A 9-point quadrature is used for all integrals, including the self-coupling terms. The alternative source code with the analytical approximation of the self-coupling terms is given in Appendix B. The difference between two methods is not significant. \n",
    "\n",
    "Copyright 2002 AEMM. Revision 2002/03/12 \n",
    "Chapter 2"
   ]
  },
  {
   "cell_type": "markdown",
   "metadata": {},
   "source": [
    "Memory allocation"
   ]
  },
  {
   "cell_type": "code",
   "execution_count": 33,
   "metadata": {},
   "outputs": [],
   "source": [
    "Z   = np.zeros ((EdgesTotal,EdgesTotal))+1j*np.zeros((EdgesTotal,EdgesTotal))"
   ]
  },
  {
   "cell_type": "code",
   "execution_count": 34,
   "metadata": {},
   "outputs": [
    {
     "data": {
      "text/plain": [
       "(255, 255)"
      ]
     },
     "execution_count": 34,
     "metadata": {},
     "output_type": "execute_result"
    }
   ],
   "source": [
    "Z.shape"
   ]
  },
  {
   "cell_type": "markdown",
   "metadata": {},
   "source": [
    "Loop over integration triangles"
   ]
  },
  {
   "cell_type": "code",
   "execution_count": 35,
   "metadata": {},
   "outputs": [],
   "source": [
    "for p_ in range(TrianglesTotal):\n",
    "    Plus  = [i for i,j in enumerate(np.array(TrianglePlus)-p_) if j == 0]\n",
    "    Minus  = [i for i,j in enumerate(np.array(TriangleMinus)-p_) if j == 0]\n",
    "\n",
    "    D = Center_ - np.transpose(np.tile([Center[:,p_]],(TrianglesTotal,9,1))) #[3 9 TrianglesTotal]     \n",
    "    \n",
    "    R=np.sqrt(sum(D*D))[np.newaxis]                              #[1 9 TrianglesTotal]\n",
    "    g=np.exp(-K*R)/R                                #[1 9 TrianglesTotal]\n",
    "    \n",
    "    gP=g[:,:,TrianglePlus]                         #[1 9 EdgesTotal]\n",
    "    gM=g[:,:,TriangleMinus]                        #[1 9 EdgesTotal]\n",
    "    \n",
    "    Fi= (np.sum(gP,axis = 1) - np.sum(gM,axis = 1))#[1 1 EdgesTotal]\n",
    "    ZF= FactorFi*Fi.T         #[EdgesTotal 1]\n",
    "    \n",
    "    for n in Plus:\n",
    "        #n = Plus[k]\n",
    "        RP = np.tile([RHO__Plus[:,:,n]],(EdgesTotal,1,1)).transpose(1,2,0)  #[3 9 EdgesTotal]\n",
    "        A=(np.sum(gP*np.sum(RP*RHO_P,axis=0),axis=1)+np.sum(gM*np.sum(RP*RHO_M,axis=0),axis=1))\n",
    "        Z1= FactorA*A.T\n",
    "        Z[:,n]=Z[:,n] + (EdgeLength[n]*(Z1+ZF)).reshape(EdgesTotal)\n",
    "        \n",
    "    for n in Minus:\n",
    "        #n = Minus[k]\n",
    "        RP = np.tile([RHO__Minus[:,:,n]],(EdgesTotal,1,1)).transpose(1,2,0)  #[3 9 EdgesTotal]\n",
    "        A=(np.sum(gP*np.sum(RP*RHO_P,axis=0),axis=1)+np.sum(gM*np.sum(RP*RHO_M,axis=0),axis=1))\n",
    "        Z1= FactorA*A.T\n",
    "        Z[:,n]=Z[:,n] + (EdgeLength[n]*(Z1-ZF)).reshape(EdgesTotal)"
   ]
  },
  {
   "cell_type": "code",
   "execution_count": 36,
   "metadata": {},
   "outputs": [
    {
     "name": "stdout",
     "output_type": "stream",
     "text": [
      "Is Z[1,186] (-2.0246662922063444e-07-2.919507910419309e-07j)?\n"
     ]
    },
    {
     "data": {
      "text/plain": [
       "True"
      ]
     },
     "execution_count": 36,
     "metadata": {},
     "output_type": "execute_result"
    }
   ],
   "source": [
    "print('Is Z[1,186] (-2.0246662922063444e-07-2.919507910419309e-07j)?')\n",
    "Z[1,186]==(-2.0246662922063444e-07-2.919507910419309e-07j)"
   ]
  },
  {
   "cell_type": "markdown",
   "metadata": {},
   "source": [
    "# RWG4 Solves MoM equations for the antenna radiation problem\n",
    "Uses the mesh file from RWG2, mesh2.mat, and the impedance file from RWG3, impedance.mat, as inputs.\n",
    "\n",
    "Also calculates the \"voltage\" vector V (the right-hand side of moment equations)         \n",
    "        \n",
    "        V(1:EdgesTotal)\n",
    "\n",
    "The following parameters need to be specified:\n",
    "\n",
    "The feed point position                 \n",
    "\n",
    "        FeedPoint(1:3);\n",
    "\n",
    "Number of feeding edges (one for the dipole; two for the monopole)\n",
    "\n",
    "        INDEX(1:2)\n",
    "\n",
    "Copyright 2002 AEMM. Revision 2002/03/14 \n",
    "Chapter 4"
   ]
  },
  {
   "cell_type": "markdown",
   "metadata": {},
   "source": [
    "### Find the feeding edge(s)(closest to the origin)"
   ]
  },
  {
   "cell_type": "code",
   "execution_count": 37,
   "metadata": {},
   "outputs": [],
   "source": [
    "FeedPoint=[[0],[0],[0]]"
   ]
  },
  {
   "cell_type": "code",
   "execution_count": 38,
   "metadata": {},
   "outputs": [],
   "source": [
    "V = np.zeros (EdgesTotal)"
   ]
  },
  {
   "cell_type": "code",
   "execution_count": 39,
   "metadata": {},
   "outputs": [],
   "source": [
    "Distance = np.zeros((3,EdgesTotal))\n",
    "for m in range(EdgesTotal):\n",
    "    Distance[:,m]=(0.5*np.sum(p[:,Edge_[:,m]],axis=1)[np.newaxis].T-FeedPoint).reshape(3)"
   ]
  },
  {
   "cell_type": "code",
   "execution_count": 40,
   "metadata": {},
   "outputs": [
    {
     "data": {
      "text/plain": [
       "(255,)"
      ]
     },
     "execution_count": 40,
     "metadata": {},
     "output_type": "execute_result"
    }
   ],
   "source": [
    "np.sum(Distance*Distance,axis=0).shape"
   ]
  },
  {
   "cell_type": "code",
   "execution_count": 41,
   "metadata": {},
   "outputs": [],
   "source": [
    "INDEX=np.argsort(np.sum(Distance*Distance,axis=0),kind='mergesort') \n",
    "Index = INDEX[0]               #Center feed - dipole\n",
    "#Index=INDEX[0:1]              #Probe feed - monopole"
   ]
  },
  {
   "cell_type": "code",
   "execution_count": 42,
   "metadata": {},
   "outputs": [
    {
     "name": "stdout",
     "output_type": "stream",
     "text": [
      "Is Index 114?\n"
     ]
    },
    {
     "data": {
      "text/plain": [
       "True"
      ]
     },
     "execution_count": 42,
     "metadata": {},
     "output_type": "execute_result"
    }
   ],
   "source": [
    "print('Is Index 114?')\n",
    "Index==114"
   ]
  },
  {
   "cell_type": "markdown",
   "metadata": {},
   "source": [
    "### Define the voltage vector"
   ]
  },
  {
   "cell_type": "code",
   "execution_count": 43,
   "metadata": {},
   "outputs": [],
   "source": [
    "V[Index]=1*EdgeLength[Index]"
   ]
  },
  {
   "cell_type": "markdown",
   "metadata": {},
   "source": [
    "### Solve system of MoM equations"
   ]
  },
  {
   "cell_type": "code",
   "execution_count": 44,
   "metadata": {},
   "outputs": [],
   "source": [
    "I=solve(Z, V)"
   ]
  },
  {
   "cell_type": "code",
   "execution_count": 45,
   "metadata": {},
   "outputs": [
    {
     "name": "stdout",
     "output_type": "stream",
     "text": [
      "Is I[200] (0.12188196388339129-0.09287114648145402j)?\n"
     ]
    },
    {
     "data": {
      "text/plain": [
       "True"
      ]
     },
     "execution_count": 45,
     "metadata": {},
     "output_type": "execute_result"
    }
   ],
   "source": [
    "print('Is I[200] (0.12188196388339129-0.09287114648145402j)?')\n",
    "I[200]==(0.12188196388339129-0.09287114648145402j)"
   ]
  },
  {
   "cell_type": "markdown",
   "metadata": {},
   "source": [
    "### Find the antenna input impedance"
   ]
  },
  {
   "cell_type": "code",
   "execution_count": 46,
   "metadata": {},
   "outputs": [],
   "source": [
    "GapCurrent  =np.sum(I[Index]*EdgeLength[Index].T)\n",
    "GapVoltage  =np.mean(V[Index]/EdgeLength[Index])\n",
    "Impedance   =GapVoltage/GapCurrent\n",
    "FeedPower   =1/2*np.real(GapCurrent*np.conj(GapVoltage))"
   ]
  },
  {
   "cell_type": "code",
   "execution_count": 47,
   "metadata": {},
   "outputs": [
    {
     "name": "stdout",
     "output_type": "stream",
     "text": [
      "The impedance of the given antenna is:  (87.57081374415527+47.29383785024352j)\n"
     ]
    }
   ],
   "source": [
    "print('The impedance of the given antenna is: ', Impedance)"
   ]
  },
  {
   "cell_type": "code",
   "execution_count": null,
   "metadata": {},
   "outputs": [],
   "source": []
  }
 ],
 "metadata": {
  "kernelspec": {
   "display_name": "Python 3",
   "language": "python",
   "name": "python3"
  },
  "language_info": {
   "codemirror_mode": {
    "name": "ipython",
    "version": 3
   },
   "file_extension": ".py",
   "mimetype": "text/x-python",
   "name": "python",
   "nbconvert_exporter": "python",
   "pygments_lexer": "ipython3",
   "version": "3.8.5"
  }
 },
 "nbformat": 4,
 "nbformat_minor": 4
}
