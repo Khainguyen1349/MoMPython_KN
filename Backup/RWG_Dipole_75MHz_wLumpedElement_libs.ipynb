{
 "cells": [
  {
   "cell_type": "markdown",
   "metadata": {},
   "source": [
    "from os.path import dirname, join as pjoin\n",
    "import scipy.io as sio\n",
    "from scipy.linalg import solve\n",
    "from scipy.spatial import Delaunay\n",
    "import plotly.figure_factory as ff\n",
    "import numpy as np\n",
    "import numpy.matlib\n",
    "import matplotlib.pyplot as plt\n",
    "\n",
    "# Translated libs\n",
    "from meshlib import *\n",
    "from rwglib import *"
   ]
  },
  {
   "cell_type": "code",
   "execution_count": 1,
   "metadata": {},
   "outputs": [],
   "source": [
    "from libs_import import *"
   ]
  },
  {
   "cell_type": "markdown",
   "metadata": {},
   "source": [
    "# Creating mesh"
   ]
  },
  {
   "cell_type": "markdown",
   "metadata": {},
   "source": [
    "## Create 1st zone "
   ]
  },
  {
   "cell_type": "code",
   "execution_count": 2,
   "metadata": {},
   "outputs": [
    {
     "ename": "NameError",
     "evalue": "name 'Delaunay_temp' is not defined",
     "output_type": "error",
     "traceback": [
      "\u001b[1;31m---------------------------------------------------------------------------\u001b[0m",
      "\u001b[1;31mNameError\u001b[0m                                 Traceback (most recent call last)",
      "\u001b[1;32m<ipython-input-2-624cf26cfe99>\u001b[0m in \u001b[0;36m<module>\u001b[1;34m\u001b[0m\n\u001b[0;32m      1\u001b[0m \u001b[0mhull_bound_points\u001b[0m \u001b[1;33m=\u001b[0m \u001b[0mnp\u001b[0m\u001b[1;33m.\u001b[0m\u001b[0marray\u001b[0m\u001b[1;33m(\u001b[0m\u001b[1;33m[\u001b[0m\u001b[1;33m[\u001b[0m\u001b[1;36m1\u001b[0m\u001b[1;33m,\u001b[0m\u001b[1;33m-\u001b[0m\u001b[1;36m40\u001b[0m\u001b[1;33m]\u001b[0m\u001b[1;33m,\u001b[0m\u001b[1;33m[\u001b[0m\u001b[1;33m-\u001b[0m\u001b[1;36m1\u001b[0m\u001b[1;33m,\u001b[0m\u001b[1;33m-\u001b[0m\u001b[1;36m40\u001b[0m\u001b[1;33m]\u001b[0m\u001b[1;33m,\u001b[0m\u001b[1;33m[\u001b[0m\u001b[1;36m1\u001b[0m\u001b[1;33m,\u001b[0m\u001b[1;36m40\u001b[0m\u001b[1;33m]\u001b[0m\u001b[1;33m,\u001b[0m\u001b[1;33m[\u001b[0m\u001b[1;33m-\u001b[0m\u001b[1;36m1\u001b[0m\u001b[1;33m,\u001b[0m\u001b[1;36m40\u001b[0m\u001b[1;33m]\u001b[0m\u001b[1;33m]\u001b[0m\u001b[1;33m)\u001b[0m\u001b[1;33m\u001b[0m\u001b[1;33m\u001b[0m\u001b[0m\n\u001b[0;32m      2\u001b[0m \u001b[0mmesh_resolution\u001b[0m \u001b[1;33m=\u001b[0m \u001b[1;36m2\u001b[0m\u001b[1;33m\u001b[0m\u001b[1;33m\u001b[0m\u001b[0m\n\u001b[1;32m----> 3\u001b[1;33m \u001b[0mtri\u001b[0m \u001b[1;33m=\u001b[0m \u001b[0mcreatHull\u001b[0m\u001b[1;33m(\u001b[0m\u001b[0mhull_bound_points\u001b[0m\u001b[1;33m,\u001b[0m\u001b[0mmesh_resolution\u001b[0m\u001b[1;33m)\u001b[0m\u001b[1;33m\u001b[0m\u001b[1;33m\u001b[0m\u001b[0m\n\u001b[0m\u001b[0;32m      4\u001b[0m \u001b[0mplt\u001b[0m\u001b[1;33m.\u001b[0m\u001b[0mtriplot\u001b[0m\u001b[1;33m(\u001b[0m\u001b[0mtri\u001b[0m\u001b[1;33m.\u001b[0m\u001b[0mpoints\u001b[0m\u001b[1;33m[\u001b[0m\u001b[1;33m:\u001b[0m\u001b[1;33m,\u001b[0m\u001b[1;36m0\u001b[0m\u001b[1;33m]\u001b[0m\u001b[1;33m,\u001b[0m \u001b[0mtri\u001b[0m\u001b[1;33m.\u001b[0m\u001b[0mpoints\u001b[0m\u001b[1;33m[\u001b[0m\u001b[1;33m:\u001b[0m\u001b[1;33m,\u001b[0m\u001b[1;36m1\u001b[0m\u001b[1;33m]\u001b[0m\u001b[1;33m,\u001b[0m \u001b[0mtri\u001b[0m\u001b[1;33m.\u001b[0m\u001b[0msimplices\u001b[0m\u001b[1;33m)\u001b[0m\u001b[1;33m\u001b[0m\u001b[1;33m\u001b[0m\u001b[0m\n\u001b[0;32m      5\u001b[0m \u001b[0mplt\u001b[0m\u001b[1;33m.\u001b[0m\u001b[0mshow\u001b[0m\u001b[1;33m(\u001b[0m\u001b[1;33m)\u001b[0m\u001b[1;33m\u001b[0m\u001b[1;33m\u001b[0m\u001b[0m\n",
      "\u001b[1;32m~\\Documents\\GitHub\\MoMPython_KN\\libs\\createHull.py\u001b[0m in \u001b[0;36mcreatHull\u001b[1;34m(hull_bound_points, mesh_resolution)\u001b[0m\n\u001b[0;32m     12\u001b[0m     \u001b[0mmesh\u001b[0m \u001b[1;33m=\u001b[0m \u001b[0mnp\u001b[0m\u001b[1;33m.\u001b[0m\u001b[0marray\u001b[0m\u001b[1;33m(\u001b[0m\u001b[1;33m[\u001b[0m\u001b[0mp_\u001b[0m \u001b[1;32mfor\u001b[0m \u001b[0mp_\u001b[0m \u001b[1;32min\u001b[0m \u001b[0mmesh_ini\u001b[0m \u001b[1;32mif\u001b[0m \u001b[0mhull_bound\u001b[0m\u001b[1;33m.\u001b[0m\u001b[0mfind_simplex\u001b[0m\u001b[1;33m(\u001b[0m\u001b[0mp_\u001b[0m\u001b[1;33m)\u001b[0m\u001b[1;33m>=\u001b[0m\u001b[1;36m0\u001b[0m\u001b[1;33m]\u001b[0m\u001b[1;33m)\u001b[0m \u001b[1;31m#check if points are inside hull bound\u001b[0m\u001b[1;33m\u001b[0m\u001b[1;33m\u001b[0m\u001b[0m\n\u001b[0;32m     13\u001b[0m     \u001b[0mtri\u001b[0m \u001b[1;33m=\u001b[0m \u001b[0mDelaunay\u001b[0m\u001b[1;33m(\u001b[0m\u001b[0mmesh\u001b[0m\u001b[1;33m)\u001b[0m\u001b[1;33m\u001b[0m\u001b[1;33m\u001b[0m\u001b[0m\n\u001b[1;32m---> 14\u001b[1;33m     \u001b[1;32mreturn\u001b[0m \u001b[0mDelaunay_temp\u001b[0m\u001b[1;33m(\u001b[0m\u001b[0mtri\u001b[0m\u001b[1;33m.\u001b[0m\u001b[0mpoints\u001b[0m\u001b[1;33m,\u001b[0m\u001b[0mtri\u001b[0m\u001b[1;33m.\u001b[0m\u001b[0msimplices\u001b[0m\u001b[1;33m)\u001b[0m\u001b[1;33m\u001b[0m\u001b[1;33m\u001b[0m\u001b[0m\n\u001b[0m",
      "\u001b[1;31mNameError\u001b[0m: name 'Delaunay_temp' is not defined"
     ]
    }
   ],
   "source": [
    "hull_bound_points = np.array([[1,-40],[-1,-40],[1,40],[-1,40]])\n",
    "mesh_resolution = 2\n",
    "tri = creatHull(hull_bound_points,mesh_resolution)\n",
    "plt.triplot(tri.points[:,0], tri.points[:,1], tri.simplices)\n",
    "plt.show()"
   ]
  },
  {
   "cell_type": "markdown",
   "metadata": {},
   "source": [
    "Using function\n",
    "$$to3D(tri2D,scaleX,scaleY,rotX,rotY,rotZ,dX,dY,dZ)$$"
   ]
  },
  {
   "cell_type": "code",
   "execution_count": null,
   "metadata": {},
   "outputs": [],
   "source": [
    "tri_final = to3D(tri,1/100,1/40,0,0,0,0,0,0)"
   ]
  },
  {
   "cell_type": "markdown",
   "metadata": {},
   "source": [
    "## Save to \"p\" and \"t\""
   ]
  },
  {
   "cell_type": "code",
   "execution_count": null,
   "metadata": {},
   "outputs": [],
   "source": [
    "p = tri_final.points.T\n",
    "t = np.ones((4,tri_final.simplices.shape[0]))\n",
    "t[0:3,:] = tri_final.simplices.T + 1\n",
    "t = t.astype(int)"
   ]
  },
  {
   "cell_type": "markdown",
   "metadata": {},
   "source": [
    "# RWG1 Geometry calculations - all Chapters\n",
    "Uses the structure mesh file, e.g. platefine.mat, as an input.\n",
    "\n",
    "Creates the RWG edge element for every inner edge of the structure. The total number of elements is EdgesTotal.\n",
    "\n",
    "Outputs the following arrays:\n",
    "\n",
    "Edge first node number          \n",
    "\n",
    "    Edge_(1,1:EdgesTotal)\n",
    "   \n",
    "Edge second node number  \n",
    "\n",
    "    Edge_(2,1:EdgesTotal)\n",
    "    \n",
    "Plus triangle number  \n",
    "\n",
    "    TrianglePlus(1:EdgesTotal)\n",
    "   \n",
    "Minus triangle number           \n",
    "\n",
    "    TriangleMinus(1:EdgesTotal)\n",
    "   \n",
    "Edge length                     \n",
    "\n",
    "    EdgeLength(1:EdgesTotal)\n",
    "   \n",
    "Edge element indicator          \n",
    "    \n",
    "    EdgeIndicator(1:EdgesTotal)\n",
    "\n",
    "Also outputs areas and midpoints of separate triangles:\n",
    "\n",
    "Triangle area                   \n",
    "\n",
    "    Area(1:TrianglesTotal)\n",
    "   \n",
    "Triangle center                 \n",
    "\n",
    "    Center(1:TrianglesTotal)      \n",
    "   \n",
    "This script may handle surfaces with T-junctions including monopoles over various metal surfaces and certain metal meshes\n",
    "\n",
    "Copyright 2002 AEMM. Revision 2002/03/09 Chapter 2\n"
   ]
  },
  {
   "cell_type": "markdown",
   "metadata": {},
   "source": [
    "Plot the mesh"
   ]
  },
  {
   "cell_type": "code",
   "execution_count": null,
   "metadata": {},
   "outputs": [],
   "source": [
    "x_,y_,z_ = p\n",
    "fig_scale = max(max(x_)-min(x_),max(y_)-min(y_),max(z_)-min(z_))\n",
    "x_scale,y_scale,z_scale=(max(x_)-min(x_))/fig_scale,(max(y_)-min(y_))/fig_scale,(max(z_)-min(z_))/fig_scale\n",
    "fig1 = ff.create_trisurf(x=x_, y=y_, z=z_,\n",
    "                         simplices=(t[0:3,:].T-1),\n",
    "                         color_func=[i for i in range(len(t.T))],\n",
    "                         show_colorbar=False,\n",
    "                         title=\"Antenna mesh\", aspectratio=dict(x=x_scale, y=y_scale, z=0.3))\n",
    "fig1.show()"
   ]
  },
  {
   "cell_type": "code",
   "execution_count": null,
   "metadata": {},
   "outputs": [],
   "source": [
    "ANT_mesh1 = RWGmesh(p,t)"
   ]
  },
  {
   "cell_type": "markdown",
   "metadata": {},
   "source": [
    "This block is only meaningful for T junctions. It leaves only two edge elements at a junction"
   ]
  },
  {
   "cell_type": "markdown",
   "metadata": {},
   "source": [
    "# RWG2: Geometry calculations - all Chapters\n",
    "Uses the mesh file from RWG1, mesh1.mat, as an input.\n",
    "\n",
    "Creates the following parameters of the RWG edge elements: \n",
    "\n",
    "Position vector rho_c_plus from the free vertex of the \"plus\" triangle to its center\n",
    "\n",
    "                                   RHO_Plus(1:3,1:EdgesTotal)\n",
    "                                   \n",
    "Position vector rho_c_minus from the center of the \"minus\" triangle to its free vertex \n",
    "\n",
    "                                   RHO_Minus(1:3,1:EdgesTotal)\n",
    "\n",
    "In addition to these parameters creates the following arrays for nine subtriangles (barycentric subdivision):\n",
    "\n",
    "Midpoints of nine subtriangles\n",
    "\n",
    "                                   Center_(1:3,1:9,1:TrianglesTotal)  \n",
    "                                   \n",
    "Position vectors rho_c_plus from the free vertex of the \"plus\" triangle to nine subtriangle midpoints\n",
    "\n",
    "                                   RHO__Plus(1:3,1:9,1:EdgesTotal)\n",
    "                                   \n",
    "Position vectors rho_c_minus from nine subtriangle midpoints to the free vertex of the \"minus\" triangle\n",
    "\n",
    "                                   RHO__Minus(1:3,1:9,1:EdgesTotal)\n",
    "\n",
    "See Rao, Wilton, Glisson, IEEE Trans. Antennas and Propagation, vol. AP-30, No 3, pp. 409-418, 1982.\n",
    "\n",
    "Copyright 2002 AEMM. Revision 2002/03/05 \n",
    "Chapter 2"
   ]
  },
  {
   "cell_type": "code",
   "execution_count": null,
   "metadata": {},
   "outputs": [],
   "source": [
    "ANT_mesh2 = RWGmesh2(ANT_mesh1,t,p)"
   ]
  },
  {
   "cell_type": "markdown",
   "metadata": {},
   "source": [
    "# RWG3 Calculates the impedance matrix using function IMPMET\n",
    "   Uses the mesh file from RWG2, mesh2.mat, as an input.\n",
    "\n",
    "The following parameters need to be specified prior to calculations:\n",
    "\n",
    "    Frequency (Hz)                  f\n",
    "\n",
    "    Dielectric constant (SI)        epsilon_\n",
    "\n",
    "    Magnetic permeability (SI)      mu_\n",
    "\n",
    "Copyright 2002 AEMM. Revision 2002/03/11 \n",
    "Chapter 2"
   ]
  },
  {
   "cell_type": "markdown",
   "metadata": {},
   "source": [
    "## Fixed parameters\n",
    "\n",
    "Related to antenna feeding position"
   ]
  },
  {
   "cell_type": "code",
   "execution_count": null,
   "metadata": {},
   "outputs": [],
   "source": [
    "FeedPoint=[[0],[0],[0]]"
   ]
  },
  {
   "cell_type": "markdown",
   "metadata": {},
   "source": [
    "Speed of light & Free-space impedance"
   ]
  },
  {
   "cell_type": "code",
   "execution_count": null,
   "metadata": {},
   "outputs": [],
   "source": [
    "frequency          = [i for i in range(10000000,500100000,1000000)]\n",
    "epsilon_    = 8.854e-012\n",
    "mu_         = 1.257e-006\n",
    "c_=1/np.sqrt(epsilon_*mu_)\n",
    "eta_=np.sqrt(mu_/epsilon_)"
   ]
  },
  {
   "cell_type": "markdown",
   "metadata": {},
   "source": [
    "### No lumped component"
   ]
  },
  {
   "cell_type": "code",
   "execution_count": null,
   "metadata": {
    "scrolled": true
   },
   "outputs": [],
   "source": [
    "RL = np.zeros(len(frequency))\n",
    "Impedance = np.zeros(len(frequency),dtype = 'complex_')\n",
    "for i in range(len(frequency)):\n",
    "    Z, I, Impedance[i], FeedPower = calculateImpedance(frequency[i],c_,mu_,epsilon_,p,ANT_mesh1,ANT_mesh2,FeedPoint)\n",
    "    RL[i] = 10*np.log(np.abs((Impedance[i]-50)/(Impedance[i]+50)))\n",
    "    #print('Return loss is ', Impedance[i], ' @',frequency[i]/1e6,'MHz')\n",
    "    \n",
    "plt.plot(np.array(frequency)/1e6, np.real(Impedance), '--', color='black', label='real')\n",
    "plt.plot(np.array(frequency)/1e6, np.imag(Impedance), color='black', label='imaginary')\n",
    "plt.grid()\n",
    "plt.xlabel(\"Freq [MHz]\") \n",
    "plt.ylabel(\"S11\") \n",
    "plt.legend()\n",
    "plt.title('Reflection coefficient')\n",
    "plt.show()"
   ]
  },
  {
   "cell_type": "markdown",
   "metadata": {},
   "source": [
    "## Calculate impedance with lumped components"
   ]
  },
  {
   "cell_type": "code",
   "execution_count": null,
   "metadata": {},
   "outputs": [],
   "source": [
    "LNumber=2\n",
    "LoadPoint = np.array([[0,0.50,0],[0,-0.50,0]]).T\n",
    "LoadValue = np.array([[0,1e+64,100],[0,1e+64,100]]).T   #((L1,C1,R1),(L2,C2,R2))\n",
    "LoadDir=np.array([[0,1,0],[0,1,0]]).T\n",
    "\n",
    "RL = np.zeros(len(frequency))\n",
    "Impedance = np.zeros(len(frequency),dtype = 'complex_')\n",
    "for i in range(len(frequency)):\n",
    "    Z, I, Impedance[i], FeedPower = calculateImpedance_withLumped(frequency[i],c_,mu_,epsilon_,\n",
    "                                                           p,ANT_mesh1,ANT_mesh2,FeedPoint,\n",
    "                                                           LNumber,LoadPoint,LoadValue,LoadDir)\n",
    "    RL[i] = 10*np.log(np.abs((Impedance[i]-50)/(Impedance[i]+50)))\n",
    "    #print('Return loss is ', Impedance[i], ' @',frequency[i]/1e6,'MHz')\n",
    "    \n",
    "plt.plot(np.array(frequency)/1e6, np.real(Impedance), '--', color='black', label='real')\n",
    "plt.plot(np.array(frequency)/1e6, np.imag(Impedance), color='black', label='imaginary')\n",
    "plt.grid()\n",
    "plt.xlabel(\"Freq [MHz]\") \n",
    "plt.ylabel(\"S11\") \n",
    "plt.legend()\n",
    "plt.title('Reflection coefficient loading 2x100 Ohm')\n",
    "plt.show()"
   ]
  },
  {
   "cell_type": "code",
   "execution_count": null,
   "metadata": {},
   "outputs": [],
   "source": [
    "LNumber=2\n",
    "LoadPoint = np.array([[0,0.50,0],[0,-0.50,0]]).T\n",
    "LoadValue = np.array([[0,1e+64,200],[0,1e+64,200]]).T   #((L1,C1,R1),(L2,C2,R2))\n",
    "LoadDir=np.array([[0,1,0],[0,1,0]]).T\n",
    "\n",
    "RL = np.zeros(len(frequency))\n",
    "Impedance = np.zeros(len(frequency),dtype = 'complex_')\n",
    "for i in range(len(frequency)):\n",
    "    Z, I, Impedance[i], FeedPower = calculateImpedance_withLumped(frequency[i],c_,mu_,epsilon_,\n",
    "                                                           p,ANT_mesh1,ANT_mesh2,FeedPoint,\n",
    "                                                           LNumber,LoadPoint,LoadValue,LoadDir)\n",
    "    RL[i] = 10*np.log(np.abs((Impedance[i]-50)/(Impedance[i]+50)))\n",
    "    #print('Return loss is ', Impedance[i], ' @',frequency[i]/1e6,'MHz')\n",
    "    \n",
    "plt.plot(np.array(frequency)/1e6, np.real(Impedance), '--', color='black', label='real')\n",
    "plt.plot(np.array(frequency)/1e6, np.imag(Impedance), color='black', label='imaginary')\n",
    "plt.grid()\n",
    "plt.xlabel(\"Freq [MHz]\") \n",
    "plt.ylabel(\"S11\") \n",
    "plt.legend()\n",
    "plt.title('Reflection coefficient loading 2x200 Ohm')\n",
    "plt.show()"
   ]
  },
  {
   "cell_type": "code",
   "execution_count": null,
   "metadata": {},
   "outputs": [],
   "source": [
    "LNumber=2\n",
    "LoadPoint = np.array([[0,0.50,0],[0,-0.50,0]]).T\n",
    "LoadValue = np.array([[0,10e-12,0],[0,10e-12,0]]).T   #((L1,C1,R1),(L2,C2,R2))\n",
    "LoadDir=np.array([[0,1,0],[0,1,0]]).T\n",
    "\n",
    "RL = np.zeros(len(frequency))\n",
    "Impedance = np.zeros(len(frequency),dtype = 'complex_')\n",
    "for i in range(len(frequency)):\n",
    "    Z, I, Impedance[i], FeedPower = calculateImpedance_withLumped(frequency[i],c_,mu_,epsilon_,\n",
    "                                                           p,ANT_mesh1,ANT_mesh2,FeedPoint,\n",
    "                                                           LNumber,LoadPoint,LoadValue,LoadDir)\n",
    "    RL[i] = 10*np.log(np.abs((Impedance[i]-50)/(Impedance[i]+50)))\n",
    "    #print('Return loss is ', Impedance[i], ' @',frequency[i]/1e6,'MHz')\n",
    "    \n",
    "plt.plot(np.array(frequency)/1e6, np.real(Impedance), '--', color='black', label='real')\n",
    "plt.plot(np.array(frequency)/1e6, np.imag(Impedance), color='black', label='imaginary')\n",
    "plt.grid()\n",
    "plt.xlabel(\"Freq [MHz]\") \n",
    "plt.ylabel(\"S11\") \n",
    "plt.legend()\n",
    "plt.title('Reflection coefficient loading 2x10 pF')\n",
    "plt.show()"
   ]
  },
  {
   "cell_type": "code",
   "execution_count": null,
   "metadata": {},
   "outputs": [],
   "source": [
    "LNumber=2\n",
    "LoadPoint = np.array([[0,0.50,0],[0,-0.50,0]]).T\n",
    "LoadValue = np.array([[0,1e-12,0],[0,1e-12,0]]).T   #((L1,C1,R1),(L2,C2,R2))\n",
    "LoadDir=np.array([[0,1,0],[0,1,0]]).T\n",
    "\n",
    "RL = np.zeros(len(frequency))\n",
    "Impedance = np.zeros(len(frequency),dtype = 'complex_')\n",
    "for i in range(len(frequency)):\n",
    "    Z, I, Impedance[i], FeedPower = calculateImpedance_withLumped(frequency[i],c_,mu_,epsilon_,\n",
    "                                                           p,ANT_mesh1,ANT_mesh2,FeedPoint,\n",
    "                                                           LNumber,LoadPoint,LoadValue,LoadDir)\n",
    "    RL[i] = 10*np.log(np.abs((Impedance[i]-50)/(Impedance[i]+50)))\n",
    "    #print('Return loss is ', Impedance[i], ' @',frequency[i]/1e6,'MHz')\n",
    "    \n",
    "plt.plot(np.array(frequency)/1e6, np.real(Impedance), '--', color='black', label='real')\n",
    "plt.plot(np.array(frequency)/1e6, np.imag(Impedance), color='black', label='imaginary')\n",
    "plt.grid()\n",
    "plt.xlabel(\"Freq [MHz]\") \n",
    "plt.ylabel(\"S11\") \n",
    "plt.legend()\n",
    "plt.title('Reflection coefficient loading 2x1 pF')\n",
    "plt.show()"
   ]
  },
  {
   "cell_type": "markdown",
   "metadata": {},
   "source": [
    "# Calculate surface currents"
   ]
  },
  {
   "cell_type": "code",
   "execution_count": null,
   "metadata": {},
   "outputs": [],
   "source": [
    "f = 75e6"
   ]
  },
  {
   "cell_type": "code",
   "execution_count": null,
   "metadata": {},
   "outputs": [],
   "source": [
    "Z, I, Impedance, FeedPower = calculateImpedance(f,c_,mu_,epsilon_,p,ANT_mesh1,ANT_mesh2,FeedPoint)"
   ]
  },
  {
   "cell_type": "code",
   "execution_count": null,
   "metadata": {},
   "outputs": [],
   "source": [
    "SCurrent = currentDistribution(t,ANT_mesh1,ANT_mesh2,I)"
   ]
  },
  {
   "cell_type": "code",
   "execution_count": null,
   "metadata": {},
   "outputs": [],
   "source": [
    "Jmax = max(SCurrent)\n",
    "CurrentNorm = SCurrent/max(SCurrent)"
   ]
  },
  {
   "cell_type": "code",
   "execution_count": null,
   "metadata": {},
   "outputs": [],
   "source": [
    "fig2 = ff.create_trisurf(x=x_, y=y_, z=z_,\n",
    "                         simplices=(t[0:3,:].T-1),\n",
    "                         color_func=list(CurrentNorm),\n",
    "                         show_colorbar=True,\n",
    "                         title=\"Antenna mesh - Normalized current distribution\", aspectratio=dict(x=x_scale, y=y_scale, z=0.3))\n",
    "fig2.show()"
   ]
  },
  {
   "cell_type": "markdown",
   "metadata": {},
   "source": [
    "# EFIELD2 Radiated/scattered field over a large sphere\n",
    "\n",
    "Uses the mesh file from RWG2, mesh2.mat, and the file containing surface current coefficients, current.mat, from RWG4 as inputs.\n",
    "\n",
    "Uses the structure sphere.mat/sphere1.mat to display radiation intensity distribution over the sphere surface. \n",
    "\n",
    "The sphere doesn't intersect the radiating object.\n",
    "\n",
    "The following parameters need to be specified:\n",
    "        \n",
    "        Sphere radius (m)\n",
    "\n",
    "Copyright 2002 AEMM. Revision 2002/03/11 \n",
    "Chapter 3"
   ]
  },
  {
   "cell_type": "code",
   "execution_count": null,
   "metadata": {},
   "outputs": [],
   "source": [
    "mat_fname_sphere = pjoin('mesh', 'sphere.mat')\n",
    "print(mat_fname_sphere)\n",
    "mat_contents_sphere = sio.loadmat(mat_fname_sphere)\n",
    "p_sphere = mat_contents_sphere['p']\n",
    "t_sphere = mat_contents_sphere['t']\n",
    "p_sphere=100*p_sphere\n",
    "K=1j*(2*np.pi*f/c_)"
   ]
  },
  {
   "cell_type": "code",
   "execution_count": null,
   "metadata": {},
   "outputs": [],
   "source": [
    "ANT_moment = RWGmoment(ANT_mesh1,I)"
   ]
  },
  {
   "cell_type": "code",
   "execution_count": null,
   "metadata": {},
   "outputs": [],
   "source": [
    "U, TotalPower = radiating3DPower(t_sphere,p_sphere,ANT_moment,K,eta_)"
   ]
  },
  {
   "cell_type": "code",
   "execution_count": null,
   "metadata": {},
   "outputs": [],
   "source": [
    "GainLogarithmic = 10*np.log10(4*np.pi*max(U)/TotalPower)"
   ]
  },
  {
   "cell_type": "code",
   "execution_count": null,
   "metadata": {},
   "outputs": [],
   "source": [
    "U_norm = 10*np.log10(U/np.linalg.norm(U))\n",
    "x_sphere,y_sphere,z_sphere = p_sphere\n",
    "fig_scale_sphere = max(max(x_sphere)-min(x_sphere),max(y_sphere)-min(y_sphere),max(z_sphere)-min(z_sphere))\n",
    "x_scale_sphere,y_scale_sphere,z_scale_sphere=(max(x_sphere)-min(x_sphere))/fig_scale_sphere,(max(y_sphere)-min(y_sphere))/fig_scale_sphere,(max(z_sphere)-min(z_sphere))/fig_scale_sphere\n",
    "fig3 = ff.create_trisurf(x=x_sphere, y=y_sphere, z=z_sphere,\n",
    "                         simplices=(t_sphere[0:3,:].T-1),\n",
    "                         color_func=U_norm,\n",
    "                         show_colorbar=True,\n",
    "                         title=\"Gain\", aspectratio=dict(x=x_scale_sphere, y=y_scale_sphere, z=z_scale_sphere))\n",
    "fig3.show()"
   ]
  },
  {
   "cell_type": "markdown",
   "metadata": {},
   "source": [
    "# EFIELD3 2D Radiation patterns\n",
    "\n",
    "Uses the mesh file from RWG2, mesh2.mat, and the file containing surface current coefficients, current.mat, from RWG4 as inputs.\n",
    "\n",
    "Additionally uses the value of TotalPower saved  in file gainpower.mat (script efield2.m)\n",
    "\n",
    "The following parameters need to be specified:\n",
    "\n",
    "    Radius of the circle (m)            R\n",
    "    Plane of the circle:                [x y 0] or \n",
    "                                        [x 0 z] or \n",
    "                                        [0 y z] \n",
    "Number of discretization points per pattern                             \n",
    "\n",
    "                                        NumPoints\n",
    "\n",
    "Copyright 2002 AEMM. Revision 2002/03/11 \n",
    "\n",
    "Chapter 3"
   ]
  },
  {
   "cell_type": "code",
   "execution_count": null,
   "metadata": {},
   "outputs": [],
   "source": [
    "NumPoints = 100\n",
    "R = 1000 # meter - distance to the antenna"
   ]
  },
  {
   "cell_type": "markdown",
   "metadata": {},
   "source": [
    "Fix Phi and scan Theta to have 2D pattern"
   ]
  },
  {
   "cell_type": "code",
   "execution_count": null,
   "metadata": {},
   "outputs": [],
   "source": [
    "theta = np.array([2*np.pi*(ii)/(NumPoints -1) for ii in range(NumPoints)])\n",
    "phi = 0*np.pi\n",
    "ObservationPointList_phi0 = [np.array([R*np.sin(theta_)*np.cos(phi), R*np.sin(theta_)*np.sin(phi), R*np.cos(theta_)]) for theta_ in theta]\n",
    "phi = 0.5*np.pi\n",
    "ObservationPointList_phi90 = [np.array([R*np.sin(theta_)*np.cos(phi), R*np.sin(theta_)*np.sin(phi), R*np.cos(theta_)]) for theta_ in theta]"
   ]
  },
  {
   "cell_type": "markdown",
   "metadata": {},
   "source": [
    "Calculate the E and H fields in the prepared cuts"
   ]
  },
  {
   "cell_type": "code",
   "execution_count": null,
   "metadata": {},
   "outputs": [],
   "source": [
    "U_efield3_phi0, W_efield3_phi0 = radiating2DFields(ObservationPointList_phi0,ANT_moment,K,eta_)\n",
    "U_efield3_phi90, W_efield3_phi90 = radiating2DFields(ObservationPointList_phi90,ANT_moment,K,eta_)"
   ]
  },
  {
   "cell_type": "code",
   "execution_count": null,
   "metadata": {},
   "outputs": [],
   "source": [
    "Polar_0 = 10*np.log10(4*np.pi*U_efield3_phi0/TotalPower)\n",
    "Polar_90 = 10*np.log10(4*np.pi*U_efield3_phi90/TotalPower)\n",
    "OFFSET = -20\n",
    "fig4, ax = plt.subplots(subplot_kw={'projection': 'polar'})\n",
    "ax.plot(theta, np.where(Polar_0 < OFFSET, OFFSET, Polar_0), color='red', label='Phi = 0°')\n",
    "ax.plot(theta, np.where(Polar_90 < OFFSET, OFFSET, Polar_90), color='blue', label='Phi = 90°')\n",
    "ax.legend()\n",
    "ax.set_rmin(OFFSET)\n",
    "ax.set_rticks([-15, -10, -5, 0])  # Less radial ticks\n",
    "#ax.set_rlabel_position(-22.5)  # Move radial labels away from plotted line\n",
    "ax.grid(True)\n",
    "\n",
    "ax.set_title(\"E-field pattern in Phi = 0° and 90° plane\", va='bottom')\n",
    "plt.show()"
   ]
  },
  {
   "cell_type": "code",
   "execution_count": null,
   "metadata": {
    "scrolled": true
   },
   "outputs": [],
   "source": [
    "print(\"Max directivity of the antenna is\",max(Polar_90),\"dBi\")"
   ]
  },
  {
   "cell_type": "code",
   "execution_count": null,
   "metadata": {},
   "outputs": [],
   "source": [
    "theta_ = (np.arange(NumPoints)/(NumPoints-1))*np.pi\n",
    "phi_ = (-1/2 + np.arange(NumPoints)/(NumPoints-1))*np.pi*2\n",
    "Theta, Phi = np.meshgrid(theta_,phi_)\n",
    "#Field calculation \n",
    "FF_3D = np.zeros(Theta.shape)\n",
    "for i in range(NumPoints):\n",
    "    ObservationPointList = [np.array([R*np.sin(theta__)*np.cos(phi_[i]), R*np.sin(theta__)*np.sin(phi_[i]), R*np.cos(theta__)]) for theta__ in theta_]\n",
    "    FF_3D[i,:], W_efield3 = radiating2DFields(ObservationPointList,ANT_moment,K,eta_)\n",
    "        \n",
    "Pattern3D(Theta, Phi, FF_3D)"
   ]
  }
 ],
 "metadata": {
  "kernelspec": {
   "display_name": "Python 3",
   "language": "python",
   "name": "python3"
  },
  "language_info": {
   "codemirror_mode": {
    "name": "ipython",
    "version": 3
   },
   "file_extension": ".py",
   "mimetype": "text/x-python",
   "name": "python",
   "nbconvert_exporter": "python",
   "pygments_lexer": "ipython3",
   "version": "3.8.5"
  }
 },
 "nbformat": 4,
 "nbformat_minor": 4
}
