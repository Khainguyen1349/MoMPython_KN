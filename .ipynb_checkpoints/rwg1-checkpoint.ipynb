{
 "cells": [
  {
   "cell_type": "code",
   "execution_count": 1,
   "metadata": {},
   "outputs": [],
   "source": [
    "from os.path import dirname, join as pjoin\n",
    "import scipy.io as sio\n",
    "import numpy as np"
   ]
  },
  {
   "cell_type": "code",
   "execution_count": 2,
   "metadata": {},
   "outputs": [
    {
     "name": "stdout",
     "output_type": "stream",
     "text": [
      "mesh\\strip2.mat\n"
     ]
    }
   ],
   "source": [
    "mat_fname = pjoin('mesh', 'strip2.mat')\n",
    "\n",
    "print(mat_fname)\n",
    "\n",
    "mat_contents = sio.loadmat(mat_fname)"
   ]
  },
  {
   "cell_type": "code",
   "execution_count": 3,
   "metadata": {},
   "outputs": [],
   "source": [
    "p = mat_contents['p']\n",
    "t = mat_contents['t']"
   ]
  },
  {
   "cell_type": "code",
   "execution_count": 4,
   "metadata": {},
   "outputs": [
    {
     "data": {
      "text/plain": [
       "(3, 234)"
      ]
     },
     "execution_count": 4,
     "metadata": {},
     "output_type": "execute_result"
    }
   ],
   "source": [
    "[s1,s2] = p.shape\n",
    "s1,s2"
   ]
  },
  {
   "cell_type": "code",
   "execution_count": 5,
   "metadata": {},
   "outputs": [],
   "source": [
    "if s1 == 2:\n",
    "    print(\"Add third dimension\")\n",
    "    p = np.append(p,np.zeros((1,s2)),axis=0) "
   ]
  },
  {
   "cell_type": "code",
   "execution_count": 6,
   "metadata": {},
   "outputs": [
    {
     "data": {
      "text/plain": [
       "(3, 234)"
      ]
     },
     "execution_count": 6,
     "metadata": {},
     "output_type": "execute_result"
    }
   ],
   "source": [
    "p.shape"
   ]
  },
  {
   "cell_type": "code",
   "execution_count": 7,
   "metadata": {},
   "outputs": [
    {
     "data": {
      "text/plain": [
       "244"
      ]
     },
     "execution_count": 7,
     "metadata": {},
     "output_type": "execute_result"
    }
   ],
   "source": [
    "TrianglesTotal=t.shape[1]\n",
    "TrianglesTotal"
   ]
  },
  {
   "cell_type": "markdown",
   "metadata": {},
   "source": [
    "Find areas of separate triangles"
   ]
  },
  {
   "cell_type": "code",
   "execution_count": 11,
   "metadata": {},
   "outputs": [],
   "source": [
    "Area = np.zeros(TrianglesTotal)\n",
    "Center = np.zeros((3,TrianglesTotal))\n",
    "for m in range(TrianglesTotal):\n",
    "        N = t[0:3,m]-1\n",
    "        #print(N)\n",
    "        Vec1 = p[:,N[0]] - p[:,N[1]]\n",
    "        Vec2 = p[:,N[2]] - p[:,N[1]]\n",
    "        Area[m] = np.linalg.norm(np.cross(Vec1,Vec2))/2\n",
    "        Center[:,m]=1/3*sum(p[:,N],1)"
   ]
  },
  {
   "cell_type": "code",
   "execution_count": 12,
   "metadata": {},
   "outputs": [
    {
     "name": "stdout",
     "output_type": "stream",
     "text": [
      "(244,)\n",
      "(3, 244)\n"
     ]
    }
   ],
   "source": [
    "print(Area.shape)\n",
    "print(Center.shape)"
   ]
  },
  {
   "cell_type": "markdown",
   "metadata": {},
   "source": [
    "Find all edge elements \"Edge_\" with at least two adjacent triangles"
   ]
  },
  {
   "cell_type": "code",
   "execution_count": 86,
   "metadata": {},
   "outputs": [],
   "source": [
    "n = 0\n",
    "Edge_ = []\n",
    "TrianglePlus = []\n",
    "TriangleMinus = []\n",
    "for m in range(TrianglesTotal):\n",
    "    N = t[0:3,m] - 1 \n",
    "    for k in range(m+1,TrianglesTotal):\n",
    "        M = t[0:3,k] - 1      \n",
    "        a = 1 - np.array([1 if i else 0 for i in [all(N-M[0]),all(N-M[1]),all(N-M[2])]])\n",
    "        if(sum(a)==2): #triangles m and k have common edge\n",
    "            Edge_.append([M[i] for i,j in enumerate(a) if j]); \n",
    "            TrianglePlus.append(m);\n",
    "            TriangleMinus.append(k); \n",
    "            n = n + 1;"
   ]
  },
  {
   "cell_type": "code",
   "execution_count": 44,
   "metadata": {},
   "outputs": [
    {
     "name": "stdout",
     "output_type": "stream",
     "text": [
      "[  1   0 233]\n",
      "[  4   1 233]\n"
     ]
    }
   ],
   "source": [
    "N = t[0:3,0] - 1\n",
    "M = t[0:3,1] - 1\n",
    "print(N)\n",
    "print(M)"
   ]
  },
  {
   "cell_type": "code",
   "execution_count": 89,
   "metadata": {},
   "outputs": [
    {
     "data": {
      "text/plain": [
       "[1, 233]"
      ]
     },
     "execution_count": 89,
     "metadata": {},
     "output_type": "execute_result"
    }
   ],
   "source": [
    "Edge_[0]"
   ]
  },
  {
   "cell_type": "code",
   "execution_count": 91,
   "metadata": {},
   "outputs": [
    {
     "data": {
      "text/plain": [
       "255"
      ]
     },
     "execution_count": 91,
     "metadata": {},
     "output_type": "execute_result"
    }
   ],
   "source": [
    "EdgesTotal = len(Edge_)\n",
    "EdgesTotal"
   ]
  },
  {
   "cell_type": "markdown",
   "metadata": {},
   "source": [
    "This block is only meaningful for T junctions. It leaves only two edge elements at a junction"
   ]
  },
  {
   "cell_type": "code",
   "execution_count": null,
   "metadata": {},
   "outputs": [],
   "source": [
    "Edge__ = [Edge_[2,:],Edge_[1,:];\n",
    "Remove = []\n",
    "for m=1:EdgesTotal\n",
    "    Edge_m=repmat(Edge_(:,m),[1 EdgesTotal]);\n",
    "    Ind1=any(Edge_  -Edge_m);\n",
    "    Ind2=any(Edge__ -Edge_m);\n",
    "    A=find(Ind1.*Ind2==0);\n",
    "    if(length(A)==3)    %three elements formally exist at a junction \n",
    "        Out=find(t(4,TrianglePlus(A))==t(4,TriangleMinus(A)));\n",
    "        Remove=[Remove A(Out)];\n",
    "    end\n",
    "end\n",
    "Edge_(:,Remove)         =[];\n",
    "TrianglePlus(Remove)    =[];\n",
    "TriangleMinus(Remove)   =[];\n",
    "EdgesTotal=length(Edge_)"
   ]
  },
  {
   "cell_type": "code",
   "execution_count": 100,
   "metadata": {},
   "outputs": [],
   "source": [
    "Edge__ = [[i[1], i[0]] for i in Edge_]\n",
    "Remove = []"
   ]
  },
  {
   "cell_type": "code",
   "execution_count": null,
   "metadata": {},
   "outputs": [],
   "source": [
    "for m in range(1,EdgesTotal):\n",
    "    Edge_m = repmat(Edge_(:,m),[1 EdgesTotal]);\n",
    "    Ind1=any(Edge_  -Edge_m);\n",
    "    Ind2=any(Edge__ -Edge_m);\n",
    "    A=find(Ind1.*Ind2==0);\n",
    "    if(length(A)==3)    %three elements formally exist at a junction \n",
    "        Out=find(t(4,TrianglePlus(A))==t(4,TriangleMinus(A)));\n",
    "        Remove=[Remove A(Out)];\n"
   ]
  }
 ],
 "metadata": {
  "kernelspec": {
   "display_name": "Python 3",
   "language": "python",
   "name": "python3"
  },
  "language_info": {
   "codemirror_mode": {
    "name": "ipython",
    "version": 3
   },
   "file_extension": ".py",
   "mimetype": "text/x-python",
   "name": "python",
   "nbconvert_exporter": "python",
   "pygments_lexer": "ipython3",
   "version": "3.8.5"
  }
 },
 "nbformat": 4,
 "nbformat_minor": 4
}
