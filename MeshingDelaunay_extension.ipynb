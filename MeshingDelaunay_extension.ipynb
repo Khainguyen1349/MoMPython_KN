{
 "cells": [
  {
   "cell_type": "code",
   "execution_count": 1,
   "metadata": {},
   "outputs": [],
   "source": [
    "import numpy as np\n",
    "from scipy.spatial import Delaunay#, ConvexHull\n",
    "import matplotlib.pyplot as plt\n",
    "from copy import copy, deepcopy"
   ]
  },
  {
   "cell_type": "markdown",
   "metadata": {},
   "source": [
    "## Define a hull\n",
    "Define the shape on the negative side of Y axis"
   ]
  },
  {
   "cell_type": "code",
   "execution_count": 2,
   "metadata": {},
   "outputs": [
    {
     "data": {
      "image/png": "[encoded data removed]",
      "text/plain": [
       "<Figure size 432x288 with 1 Axes>"
      ]
     },
     "metadata": {
      "needs_background": "light"
     },
     "output_type": "display_data"
    }
   ],
   "source": [
    "hull_bound_points = np.array([[10,-10],[-10,-10],[10,0],[-10,0]])\n",
    "hull_bound = Delaunay(hull_bound_points)\n",
    "plt.triplot(hull_bound_points[:,0], hull_bound_points[:,1], hull_bound.simplices)\n",
    "plt.show()"
   ]
  },
  {
   "cell_type": "markdown",
   "metadata": {},
   "source": [
    "## Define points inside hull\n",
    "\n",
    "The denser the point, the finer the meshing"
   ]
  },
  {
   "cell_type": "code",
   "execution_count": 3,
   "metadata": {},
   "outputs": [],
   "source": [
    "mesh_points = []\n",
    "for i in range(-10,10+1,10):\n",
    "    for j in range(-10,1,5):\n",
    "        mesh_points.append([i,j])\n",
    "mesh_ini = np.array(mesh_points)"
   ]
  },
  {
   "cell_type": "markdown",
   "metadata": {},
   "source": [
    "Check if point is inside"
   ]
  },
  {
   "cell_type": "code",
   "execution_count": 4,
   "metadata": {},
   "outputs": [],
   "source": [
    "mesh = np.array([p_ for p_ in mesh_ini if hull_bound.find_simplex(p_)>=0])"
   ]
  },
  {
   "cell_type": "code",
   "execution_count": 5,
   "metadata": {},
   "outputs": [
    {
     "data": {
      "image/png": "[encoded data removed]",
      "text/plain": [
       "<Figure size 432x288 with 1 Axes>"
      ]
     },
     "metadata": {
      "needs_background": "light"
     },
     "output_type": "display_data"
    }
   ],
   "source": [
    "tri = Delaunay(mesh)\n",
    "plt.triplot(mesh[:,0], mesh[:,1], tri.simplices)\n",
    "plt.show()"
   ]
  },
  {
   "cell_type": "markdown",
   "metadata": {},
   "source": [
    "Number of points"
   ]
  },
  {
   "cell_type": "code",
   "execution_count": 6,
   "metadata": {},
   "outputs": [
    {
     "data": {
      "text/plain": [
       "9"
      ]
     },
     "execution_count": 6,
     "metadata": {},
     "output_type": "execute_result"
    }
   ],
   "source": [
    "tri.points.shape[0]"
   ]
  },
  {
   "cell_type": "markdown",
   "metadata": {},
   "source": [
    "Number of triangles"
   ]
  },
  {
   "cell_type": "code",
   "execution_count": 7,
   "metadata": {},
   "outputs": [
    {
     "data": {
      "text/plain": [
       "8"
      ]
     },
     "execution_count": 7,
     "metadata": {},
     "output_type": "execute_result"
    }
   ],
   "source": [
    "tri.simplices.shape[0]"
   ]
  },
  {
   "cell_type": "markdown",
   "metadata": {},
   "source": [
    "Common edge"
   ]
  },
  {
   "cell_type": "code",
   "execution_count": 8,
   "metadata": {},
   "outputs": [],
   "source": [
    "edgecommon = np.array([[10,0],[-10,0]])"
   ]
  },
  {
   "cell_type": "code",
   "execution_count": 9,
   "metadata": {},
   "outputs": [
    {
     "data": {
      "text/plain": [
       "10"
      ]
     },
     "execution_count": 9,
     "metadata": {},
     "output_type": "execute_result"
    }
   ],
   "source": [
    "edgecommon[0][0]"
   ]
  },
  {
   "cell_type": "code",
   "execution_count": 10,
   "metadata": {},
   "outputs": [],
   "source": [
    "def overlappedPoints(points, edgecommon):\n",
    "    oPoints = []\n",
    "    for i in points:\n",
    "        if (edgecommon[0][0] == edgecommon[1][0]):\n",
    "            if ((i[0] == edgecommon[0][0]) and ((i[1] - edgecommon[0][1])*(i[1] - edgecommon[1][1])<=0)):\n",
    "                oPoints.append([i[0],i[1]])\n",
    "        elif (edgecommon[0][1] == edgecommon[1][1]):\n",
    "            if((i[1] == edgecommon[0][1]) and ((i[0] - edgecommon[0][0])*(i[0] - edgecommon[1][0])<=0)):\n",
    "                oPoints.append([i[0],i[1]])\n",
    "        elif(((i[0] - edgecommon[0][0])/(edgecommon[1][0]-edgecommon[0][0]) - (i[1] - edgecommon[0][1])/(edgecommon[1][1]-edgecommon[0][1])<10e-3) and ((i[1] - edgecommon[0][1])*(i[1] - edgecommon[1][1])<=0)):\n",
    "            oPoints.append([i[0],i[1]])\n",
    "    return np.array(oPoints)     "
   ]
  },
  {
   "cell_type": "code",
   "execution_count": 11,
   "metadata": {},
   "outputs": [
    {
     "data": {
      "text/plain": [
       "array([[-10.,   0.],\n",
       "       [  0.,   0.],\n",
       "       [ 10.,   0.]])"
      ]
     },
     "execution_count": 11,
     "metadata": {},
     "output_type": "execute_result"
    }
   ],
   "source": [
    "p = overlappedPoints(tri.points, edgecommon)\n",
    "p"
   ]
  },
  {
   "cell_type": "code",
   "execution_count": 12,
   "metadata": {},
   "outputs": [
    {
     "data": {
      "text/plain": [
       "array([[-10., -10.],\n",
       "       [-10.,  -5.],\n",
       "       [-10.,   0.],\n",
       "       [  0., -10.],\n",
       "       [  0.,  -5.],\n",
       "       [  0.,   0.],\n",
       "       [ 10., -10.],\n",
       "       [ 10.,  -5.],\n",
       "       [ 10.,   0.]])"
      ]
     },
     "execution_count": 12,
     "metadata": {},
     "output_type": "execute_result"
    }
   ],
   "source": [
    "tri.points"
   ]
  },
  {
   "cell_type": "code",
   "execution_count": 13,
   "metadata": {},
   "outputs": [],
   "source": [
    "def overlappedPointsPosition(points,points_list):\n",
    "    olPP = []\n",
    "    for i in points_list:\n",
    "        x = (points == i).all(axis=1).nonzero()\n",
    "        olPP.append(x[0][0])\n",
    "    return olPP"
   ]
  },
  {
   "cell_type": "code",
   "execution_count": 14,
   "metadata": {},
   "outputs": [
    {
     "data": {
      "text/plain": [
       "[2, 5, 8]"
      ]
     },
     "execution_count": 14,
     "metadata": {},
     "output_type": "execute_result"
    }
   ],
   "source": [
    "olPP = overlappedPointsPosition(tri.points,p)\n",
    "olPP"
   ]
  },
  {
   "cell_type": "code",
   "execution_count": 15,
   "metadata": {},
   "outputs": [
    {
     "data": {
      "text/plain": [
       "array([[1, 4, 2],\n",
       "       [4, 5, 2],\n",
       "       [3, 4, 0],\n",
       "       [4, 1, 0],\n",
       "       [4, 8, 5],\n",
       "       [4, 7, 8],\n",
       "       [4, 3, 6],\n",
       "       [7, 4, 6]], dtype=int32)"
      ]
     },
     "execution_count": 15,
     "metadata": {},
     "output_type": "execute_result"
    }
   ],
   "source": [
    "tri.simplices"
   ]
  },
  {
   "cell_type": "markdown",
   "metadata": {},
   "source": [
    "## Add Hull"
   ]
  },
  {
   "cell_type": "code",
   "execution_count": 16,
   "metadata": {},
   "outputs": [
    {
     "data": {
      "image/png": "[encoded data removed]",
      "text/plain": [
       "<Figure size 432x288 with 1 Axes>"
      ]
     },
     "metadata": {
      "needs_background": "light"
     },
     "output_type": "display_data"
    }
   ],
   "source": [
    "hull_bound_points_add = np.array([[10,10],[-10,10],[10,0],[-10,0]])\n",
    "hull_bound_add = Delaunay(hull_bound_points_add)\n",
    "plt.triplot(hull_bound_points_add[:,0], hull_bound_points_add[:,1], hull_bound_add.simplices)\n",
    "plt.show()"
   ]
  },
  {
   "cell_type": "code",
   "execution_count": 17,
   "metadata": {},
   "outputs": [
    {
     "data": {
      "text/plain": [
       "-10"
      ]
     },
     "execution_count": 17,
     "metadata": {},
     "output_type": "execute_result"
    }
   ],
   "source": [
    "min(i[0] for i in hull_bound_points_add)"
   ]
  },
  {
   "cell_type": "code",
   "execution_count": 18,
   "metadata": {},
   "outputs": [],
   "source": [
    "mesh_points_add = []\n",
    "mesh_res_add = 2\n",
    "for i in range(min(i[0] for i in hull_bound_points_add),max(i[0] for i in hull_bound_points_add)+1,mesh_res_add):\n",
    "    for j in range(min(i[1] for i in hull_bound_points_add),max(i[1] for i in hull_bound_points_add)+1,mesh_res_add):\n",
    "        mesh_points_add.append([i,j])\n",
    "mesh_ini_add = np.array(mesh_points_add)"
   ]
  },
  {
   "cell_type": "code",
   "execution_count": 19,
   "metadata": {},
   "outputs": [
    {
     "data": {
      "text/plain": [
       "array([[-10,   0],\n",
       "       [-10,   2],\n",
       "       [-10,   4],\n",
       "       [-10,   6],\n",
       "       [-10,   8],\n",
       "       [-10,  10],\n",
       "       [ -8,   0],\n",
       "       [ -8,   2],\n",
       "       [ -8,   4],\n",
       "       [ -8,   6],\n",
       "       [ -8,   8],\n",
       "       [ -8,  10],\n",
       "       [ -6,   0],\n",
       "       [ -6,   2],\n",
       "       [ -6,   4],\n",
       "       [ -6,   6],\n",
       "       [ -6,   8],\n",
       "       [ -6,  10],\n",
       "       [ -4,   0],\n",
       "       [ -4,   2],\n",
       "       [ -4,   4],\n",
       "       [ -4,   6],\n",
       "       [ -4,   8],\n",
       "       [ -4,  10],\n",
       "       [ -2,   0],\n",
       "       [ -2,   2],\n",
       "       [ -2,   4],\n",
       "       [ -2,   6],\n",
       "       [ -2,   8],\n",
       "       [ -2,  10],\n",
       "       [  0,   0],\n",
       "       [  0,   2],\n",
       "       [  0,   4],\n",
       "       [  0,   6],\n",
       "       [  0,   8],\n",
       "       [  0,  10],\n",
       "       [  2,   0],\n",
       "       [  2,   2],\n",
       "       [  2,   4],\n",
       "       [  2,   6],\n",
       "       [  2,   8],\n",
       "       [  2,  10],\n",
       "       [  4,   0],\n",
       "       [  4,   2],\n",
       "       [  4,   4],\n",
       "       [  4,   6],\n",
       "       [  4,   8],\n",
       "       [  4,  10],\n",
       "       [  6,   0],\n",
       "       [  6,   2],\n",
       "       [  6,   4],\n",
       "       [  6,   6],\n",
       "       [  6,   8],\n",
       "       [  6,  10],\n",
       "       [  8,   0],\n",
       "       [  8,   2],\n",
       "       [  8,   4],\n",
       "       [  8,   6],\n",
       "       [  8,   8],\n",
       "       [  8,  10],\n",
       "       [ 10,   0],\n",
       "       [ 10,   2],\n",
       "       [ 10,   4],\n",
       "       [ 10,   6],\n",
       "       [ 10,   8],\n",
       "       [ 10,  10]])"
      ]
     },
     "execution_count": 19,
     "metadata": {},
     "output_type": "execute_result"
    }
   ],
   "source": [
    "mesh_ini_add"
   ]
  },
  {
   "cell_type": "code",
   "execution_count": 20,
   "metadata": {},
   "outputs": [
    {
     "data": {
      "text/plain": [
       "array([[-10,   0],\n",
       "       [ -8,   0],\n",
       "       [ -6,   0],\n",
       "       [ -4,   0],\n",
       "       [ -2,   0],\n",
       "       [  0,   0],\n",
       "       [  2,   0],\n",
       "       [  4,   0],\n",
       "       [  6,   0],\n",
       "       [  8,   0],\n",
       "       [ 10,   0]])"
      ]
     },
     "execution_count": 20,
     "metadata": {},
     "output_type": "execute_result"
    }
   ],
   "source": [
    "p2 = overlappedPoints(mesh_ini_add, edgecommon)\n",
    "p2"
   ]
  },
  {
   "cell_type": "code",
   "execution_count": 21,
   "metadata": {},
   "outputs": [
    {
     "data": {
      "text/plain": [
       "[0, 6, 12, 18, 24, 30, 36, 42, 48, 54, 60]"
      ]
     },
     "execution_count": 21,
     "metadata": {},
     "output_type": "execute_result"
    }
   ],
   "source": [
    "olPP2 = overlappedPointsPosition(mesh_ini_add,p2)\n",
    "olPP2"
   ]
  },
  {
   "cell_type": "code",
   "execution_count": 22,
   "metadata": {},
   "outputs": [
    {
     "data": {
      "text/plain": [
       "array([[-10,   2],\n",
       "       [-10,   4],\n",
       "       [-10,   6],\n",
       "       [-10,   8],\n",
       "       [-10,  10],\n",
       "       [ -8,   2],\n",
       "       [ -8,   4],\n",
       "       [ -8,   6],\n",
       "       [ -8,   8],\n",
       "       [ -8,  10],\n",
       "       [ -6,   2],\n",
       "       [ -6,   4],\n",
       "       [ -6,   6],\n",
       "       [ -6,   8],\n",
       "       [ -6,  10],\n",
       "       [ -4,   2],\n",
       "       [ -4,   4],\n",
       "       [ -4,   6],\n",
       "       [ -4,   8],\n",
       "       [ -4,  10],\n",
       "       [ -2,   2],\n",
       "       [ -2,   4],\n",
       "       [ -2,   6],\n",
       "       [ -2,   8],\n",
       "       [ -2,  10],\n",
       "       [  0,   2],\n",
       "       [  0,   4],\n",
       "       [  0,   6],\n",
       "       [  0,   8],\n",
       "       [  0,  10],\n",
       "       [  2,   2],\n",
       "       [  2,   4],\n",
       "       [  2,   6],\n",
       "       [  2,   8],\n",
       "       [  2,  10],\n",
       "       [  4,   2],\n",
       "       [  4,   4],\n",
       "       [  4,   6],\n",
       "       [  4,   8],\n",
       "       [  4,  10],\n",
       "       [  6,   2],\n",
       "       [  6,   4],\n",
       "       [  6,   6],\n",
       "       [  6,   8],\n",
       "       [  6,  10],\n",
       "       [  8,   2],\n",
       "       [  8,   4],\n",
       "       [  8,   6],\n",
       "       [  8,   8],\n",
       "       [  8,  10],\n",
       "       [ 10,   2],\n",
       "       [ 10,   4],\n",
       "       [ 10,   6],\n",
       "       [ 10,   8],\n",
       "       [ 10,  10]])"
      ]
     },
     "execution_count": 22,
     "metadata": {},
     "output_type": "execute_result"
    }
   ],
   "source": [
    "mesh_ini_add_del = np.delete(mesh_ini_add, olPP2, 0)\n",
    "mesh_ini_add_del"
   ]
  },
  {
   "cell_type": "code",
   "execution_count": 23,
   "metadata": {},
   "outputs": [
    {
     "data": {
      "text/plain": [
       "array([[-10.,   0.],\n",
       "       [  0.,   0.],\n",
       "       [ 10.,   0.],\n",
       "       [-10.,   2.],\n",
       "       [-10.,   4.],\n",
       "       [-10.,   6.],\n",
       "       [-10.,   8.],\n",
       "       [-10.,  10.],\n",
       "       [ -8.,   2.],\n",
       "       [ -8.,   4.],\n",
       "       [ -8.,   6.],\n",
       "       [ -8.,   8.],\n",
       "       [ -8.,  10.],\n",
       "       [ -6.,   2.],\n",
       "       [ -6.,   4.],\n",
       "       [ -6.,   6.],\n",
       "       [ -6.,   8.],\n",
       "       [ -6.,  10.],\n",
       "       [ -4.,   2.],\n",
       "       [ -4.,   4.],\n",
       "       [ -4.,   6.],\n",
       "       [ -4.,   8.],\n",
       "       [ -4.,  10.],\n",
       "       [ -2.,   2.],\n",
       "       [ -2.,   4.],\n",
       "       [ -2.,   6.],\n",
       "       [ -2.,   8.],\n",
       "       [ -2.,  10.],\n",
       "       [  0.,   2.],\n",
       "       [  0.,   4.],\n",
       "       [  0.,   6.],\n",
       "       [  0.,   8.],\n",
       "       [  0.,  10.],\n",
       "       [  2.,   2.],\n",
       "       [  2.,   4.],\n",
       "       [  2.,   6.],\n",
       "       [  2.,   8.],\n",
       "       [  2.,  10.],\n",
       "       [  4.,   2.],\n",
       "       [  4.,   4.],\n",
       "       [  4.,   6.],\n",
       "       [  4.,   8.],\n",
       "       [  4.,  10.],\n",
       "       [  6.,   2.],\n",
       "       [  6.,   4.],\n",
       "       [  6.,   6.],\n",
       "       [  6.,   8.],\n",
       "       [  6.,  10.],\n",
       "       [  8.,   2.],\n",
       "       [  8.,   4.],\n",
       "       [  8.,   6.],\n",
       "       [  8.,   8.],\n",
       "       [  8.,  10.],\n",
       "       [ 10.,   2.],\n",
       "       [ 10.,   4.],\n",
       "       [ 10.,   6.],\n",
       "       [ 10.,   8.],\n",
       "       [ 10.,  10.]])"
      ]
     },
     "execution_count": 23,
     "metadata": {},
     "output_type": "execute_result"
    }
   ],
   "source": [
    "mesh_ini_add_del_add = np.append(p,mesh_ini_add_del, axis=0)\n",
    "mesh_ini_add_del_add"
   ]
  },
  {
   "cell_type": "code",
   "execution_count": 24,
   "metadata": {},
   "outputs": [],
   "source": [
    "mesh_add = np.array([p_ for p_ in mesh_ini_add_del_add if hull_bound_add.find_simplex(p_)>=0])"
   ]
  },
  {
   "cell_type": "code",
   "execution_count": 25,
   "metadata": {},
   "outputs": [
    {
     "data": {
      "image/png": "[encoded data removed]",
      "text/plain": [
       "<Figure size 432x288 with 1 Axes>"
      ]
     },
     "metadata": {
      "needs_background": "light"
     },
     "output_type": "display_data"
    }
   ],
   "source": [
    "tri_add = Delaunay(mesh_add)\n",
    "plt.triplot(mesh_add[:,0], mesh_add[:,1], tri_add.simplices)\n",
    "plt.show()"
   ]
  },
  {
   "cell_type": "code",
   "execution_count": 26,
   "metadata": {},
   "outputs": [
    {
     "data": {
      "text/plain": [
       "array([[-10., -10.],\n",
       "       [-10.,  -5.],\n",
       "       [-10.,   0.],\n",
       "       [  0., -10.],\n",
       "       [  0.,  -5.],\n",
       "       [  0.,   0.],\n",
       "       [ 10., -10.],\n",
       "       [ 10.,  -5.],\n",
       "       [ 10.,   0.],\n",
       "       [-10.,   2.],\n",
       "       [-10.,   4.],\n",
       "       [-10.,   6.],\n",
       "       [-10.,   8.],\n",
       "       [-10.,  10.],\n",
       "       [ -8.,   2.],\n",
       "       [ -8.,   4.],\n",
       "       [ -8.,   6.],\n",
       "       [ -8.,   8.],\n",
       "       [ -8.,  10.],\n",
       "       [ -6.,   2.],\n",
       "       [ -6.,   4.],\n",
       "       [ -6.,   6.],\n",
       "       [ -6.,   8.],\n",
       "       [ -6.,  10.],\n",
       "       [ -4.,   2.],\n",
       "       [ -4.,   4.],\n",
       "       [ -4.,   6.],\n",
       "       [ -4.,   8.],\n",
       "       [ -4.,  10.],\n",
       "       [ -2.,   2.],\n",
       "       [ -2.,   4.],\n",
       "       [ -2.,   6.],\n",
       "       [ -2.,   8.],\n",
       "       [ -2.,  10.],\n",
       "       [  0.,   2.],\n",
       "       [  0.,   4.],\n",
       "       [  0.,   6.],\n",
       "       [  0.,   8.],\n",
       "       [  0.,  10.],\n",
       "       [  2.,   2.],\n",
       "       [  2.,   4.],\n",
       "       [  2.,   6.],\n",
       "       [  2.,   8.],\n",
       "       [  2.,  10.],\n",
       "       [  4.,   2.],\n",
       "       [  4.,   4.],\n",
       "       [  4.,   6.],\n",
       "       [  4.,   8.],\n",
       "       [  4.,  10.],\n",
       "       [  6.,   2.],\n",
       "       [  6.,   4.],\n",
       "       [  6.,   6.],\n",
       "       [  6.,   8.],\n",
       "       [  6.,  10.],\n",
       "       [  8.,   2.],\n",
       "       [  8.,   4.],\n",
       "       [  8.,   6.],\n",
       "       [  8.,   8.],\n",
       "       [  8.,  10.],\n",
       "       [ 10.,   2.],\n",
       "       [ 10.,   4.],\n",
       "       [ 10.,   6.],\n",
       "       [ 10.,   8.],\n",
       "       [ 10.,  10.]])"
      ]
     },
     "execution_count": 26,
     "metadata": {},
     "output_type": "execute_result"
    }
   ],
   "source": [
    "tri_final_points = np.concatenate((tri.points, mesh_ini_add_del), axis=0)\n",
    "tri_final_points"
   ]
  },
  {
   "cell_type": "code",
   "execution_count": 27,
   "metadata": {},
   "outputs": [
    {
     "data": {
      "text/plain": [
       "array([[19, 14,  6],\n",
       "       [29, 24,  7],\n",
       "       [14,  9,  6],\n",
       "       [59, 54,  8],\n",
       "       [54, 49,  8],\n",
       "       [34, 29,  7],\n",
       "       [44, 39,  7],\n",
       "       [39, 34,  7],\n",
       "       [49, 44,  8],\n",
       "       [44,  7,  8],\n",
       "       [44, 49, 50],\n",
       "       [45, 44, 50],\n",
       "       [24, 19,  6],\n",
       "       [ 7, 24,  6],\n",
       "       [ 9, 15, 10],\n",
       "       [15,  9, 14],\n",
       "       [15, 19, 20],\n",
       "       [15, 14, 19],\n",
       "       [51, 45, 50],\n",
       "       [51, 46, 45],\n",
       "       [15, 11, 10],\n",
       "       [11, 15, 16],\n",
       "       [21, 15, 20],\n",
       "       [15, 21, 16],\n",
       "       [55, 51, 50],\n",
       "       [51, 55, 56],\n",
       "       [49, 55, 50],\n",
       "       [54, 55, 49],\n",
       "       [43, 38, 37],\n",
       "       [42, 43, 37],\n",
       "       [51, 47, 46],\n",
       "       [47, 51, 52],\n",
       "       [47, 53, 48],\n",
       "       [53, 47, 52],\n",
       "       [47, 41, 46],\n",
       "       [41, 47, 42],\n",
       "       [47, 43, 42],\n",
       "       [43, 47, 48],\n",
       "       [53, 57, 58],\n",
       "       [57, 53, 52],\n",
       "       [51, 57, 52],\n",
       "       [57, 51, 56],\n",
       "       [58, 57, 63],\n",
       "       [57, 62, 63],\n",
       "       [62, 57, 61],\n",
       "       [57, 56, 61],\n",
       "       [17, 11, 16],\n",
       "       [11, 17, 12],\n",
       "       [55, 60, 56],\n",
       "       [56, 60, 61],\n",
       "       [60, 55, 54],\n",
       "       [60, 54, 59],\n",
       "       [30, 34, 35],\n",
       "       [34, 30, 29],\n",
       "       [32, 33, 28],\n",
       "       [27, 32, 28],\n",
       "       [33, 32, 38],\n",
       "       [38, 32, 37],\n",
       "       [32, 36, 37],\n",
       "       [36, 32, 31],\n",
       "       [36, 41, 42],\n",
       "       [36, 42, 37],\n",
       "       [36, 30, 35],\n",
       "       [30, 36, 31],\n",
       "       [12, 18, 13],\n",
       "       [17, 18, 12],\n",
       "       [21, 22, 16],\n",
       "       [22, 17, 16],\n",
       "       [40, 36, 35],\n",
       "       [36, 40, 41],\n",
       "       [46, 40, 45],\n",
       "       [41, 40, 46],\n",
       "       [34, 40, 35],\n",
       "       [39, 40, 34],\n",
       "       [40, 44, 45],\n",
       "       [40, 39, 44],\n",
       "       [26, 22, 21],\n",
       "       [22, 26, 27],\n",
       "       [26, 32, 27],\n",
       "       [32, 26, 31],\n",
       "       [23, 27, 28],\n",
       "       [23, 22, 27],\n",
       "       [23, 18, 17],\n",
       "       [22, 23, 17],\n",
       "       [30, 25, 29],\n",
       "       [25, 24, 29],\n",
       "       [19, 25, 20],\n",
       "       [24, 25, 19],\n",
       "       [25, 30, 31],\n",
       "       [26, 25, 31],\n",
       "       [25, 21, 20],\n",
       "       [25, 26, 21]], dtype=int32)"
      ]
     },
     "execution_count": 27,
     "metadata": {},
     "output_type": "execute_result"
    }
   ],
   "source": [
    "tri_add_simplices_mod = tri_add.simplices + tri.points.shape[0] - len(olPP)\n",
    "tri_add_simplices_mod"
   ]
  },
  {
   "cell_type": "code",
   "execution_count": 28,
   "metadata": {},
   "outputs": [
    {
     "data": {
      "text/plain": [
       "array([[13,  8,  0],\n",
       "       [23, 18,  1],\n",
       "       [ 8,  3,  0],\n",
       "       [53, 48,  2],\n",
       "       [48, 43,  2],\n",
       "       [28, 23,  1],\n",
       "       [38, 33,  1],\n",
       "       [33, 28,  1],\n",
       "       [43, 38,  2],\n",
       "       [38,  1,  2],\n",
       "       [38, 43, 44],\n",
       "       [39, 38, 44],\n",
       "       [18, 13,  0],\n",
       "       [ 1, 18,  0],\n",
       "       [ 3,  9,  4],\n",
       "       [ 9,  3,  8],\n",
       "       [ 9, 13, 14],\n",
       "       [ 9,  8, 13],\n",
       "       [45, 39, 44],\n",
       "       [45, 40, 39],\n",
       "       [ 9,  5,  4],\n",
       "       [ 5,  9, 10],\n",
       "       [15,  9, 14],\n",
       "       [ 9, 15, 10],\n",
       "       [49, 45, 44],\n",
       "       [45, 49, 50],\n",
       "       [43, 49, 44],\n",
       "       [48, 49, 43],\n",
       "       [37, 32, 31],\n",
       "       [36, 37, 31],\n",
       "       [45, 41, 40],\n",
       "       [41, 45, 46],\n",
       "       [41, 47, 42],\n",
       "       [47, 41, 46],\n",
       "       [41, 35, 40],\n",
       "       [35, 41, 36],\n",
       "       [41, 37, 36],\n",
       "       [37, 41, 42],\n",
       "       [47, 51, 52],\n",
       "       [51, 47, 46],\n",
       "       [45, 51, 46],\n",
       "       [51, 45, 50],\n",
       "       [52, 51, 57],\n",
       "       [51, 56, 57],\n",
       "       [56, 51, 55],\n",
       "       [51, 50, 55],\n",
       "       [11,  5, 10],\n",
       "       [ 5, 11,  6],\n",
       "       [49, 54, 50],\n",
       "       [50, 54, 55],\n",
       "       [54, 49, 48],\n",
       "       [54, 48, 53],\n",
       "       [24, 28, 29],\n",
       "       [28, 24, 23],\n",
       "       [26, 27, 22],\n",
       "       [21, 26, 22],\n",
       "       [27, 26, 32],\n",
       "       [32, 26, 31],\n",
       "       [26, 30, 31],\n",
       "       [30, 26, 25],\n",
       "       [30, 35, 36],\n",
       "       [30, 36, 31],\n",
       "       [30, 24, 29],\n",
       "       [24, 30, 25],\n",
       "       [ 6, 12,  7],\n",
       "       [11, 12,  6],\n",
       "       [15, 16, 10],\n",
       "       [16, 11, 10],\n",
       "       [34, 30, 29],\n",
       "       [30, 34, 35],\n",
       "       [40, 34, 39],\n",
       "       [35, 34, 40],\n",
       "       [28, 34, 29],\n",
       "       [33, 34, 28],\n",
       "       [34, 38, 39],\n",
       "       [34, 33, 38],\n",
       "       [20, 16, 15],\n",
       "       [16, 20, 21],\n",
       "       [20, 26, 21],\n",
       "       [26, 20, 25],\n",
       "       [17, 21, 22],\n",
       "       [17, 16, 21],\n",
       "       [17, 12, 11],\n",
       "       [16, 17, 11],\n",
       "       [24, 19, 23],\n",
       "       [19, 18, 23],\n",
       "       [13, 19, 14],\n",
       "       [18, 19, 13],\n",
       "       [19, 24, 25],\n",
       "       [20, 19, 25],\n",
       "       [19, 15, 14],\n",
       "       [19, 20, 15]], dtype=int32)"
      ]
     },
     "execution_count": 28,
     "metadata": {},
     "output_type": "execute_result"
    }
   ],
   "source": [
    "tri_add.simplices"
   ]
  },
  {
   "cell_type": "code",
   "execution_count": 29,
   "metadata": {},
   "outputs": [
    {
     "name": "stdout",
     "output_type": "stream",
     "text": [
      "(array([ 0,  2, 12, 13], dtype=int64), array([2, 2, 2, 2], dtype=int64))\n",
      "(array([ 1,  5,  6,  7,  9, 13], dtype=int64), array([2, 2, 2, 2, 1, 0], dtype=int64))\n",
      "(array([3, 4, 8, 9], dtype=int64), array([2, 2, 2, 2], dtype=int64))\n"
     ]
    },
    {
     "data": {
      "text/plain": [
       "array([[19, 14,  2],\n",
       "       [29, 24,  5],\n",
       "       [14,  9,  2],\n",
       "       [59, 54,  8],\n",
       "       [54, 49,  8],\n",
       "       [34, 29,  5],\n",
       "       [44, 39,  5],\n",
       "       [39, 34,  5],\n",
       "       [49, 44,  8],\n",
       "       [44,  5,  8],\n",
       "       [44, 49, 50],\n",
       "       [45, 44, 50],\n",
       "       [24, 19,  2],\n",
       "       [ 5, 24,  2],\n",
       "       [ 9, 15, 10],\n",
       "       [15,  9, 14],\n",
       "       [15, 19, 20],\n",
       "       [15, 14, 19],\n",
       "       [51, 45, 50],\n",
       "       [51, 46, 45],\n",
       "       [15, 11, 10],\n",
       "       [11, 15, 16],\n",
       "       [21, 15, 20],\n",
       "       [15, 21, 16],\n",
       "       [55, 51, 50],\n",
       "       [51, 55, 56],\n",
       "       [49, 55, 50],\n",
       "       [54, 55, 49],\n",
       "       [43, 38, 37],\n",
       "       [42, 43, 37],\n",
       "       [51, 47, 46],\n",
       "       [47, 51, 52],\n",
       "       [47, 53, 48],\n",
       "       [53, 47, 52],\n",
       "       [47, 41, 46],\n",
       "       [41, 47, 42],\n",
       "       [47, 43, 42],\n",
       "       [43, 47, 48],\n",
       "       [53, 57, 58],\n",
       "       [57, 53, 52],\n",
       "       [51, 57, 52],\n",
       "       [57, 51, 56],\n",
       "       [58, 57, 63],\n",
       "       [57, 62, 63],\n",
       "       [62, 57, 61],\n",
       "       [57, 56, 61],\n",
       "       [17, 11, 16],\n",
       "       [11, 17, 12],\n",
       "       [55, 60, 56],\n",
       "       [56, 60, 61],\n",
       "       [60, 55, 54],\n",
       "       [60, 54, 59],\n",
       "       [30, 34, 35],\n",
       "       [34, 30, 29],\n",
       "       [32, 33, 28],\n",
       "       [27, 32, 28],\n",
       "       [33, 32, 38],\n",
       "       [38, 32, 37],\n",
       "       [32, 36, 37],\n",
       "       [36, 32, 31],\n",
       "       [36, 41, 42],\n",
       "       [36, 42, 37],\n",
       "       [36, 30, 35],\n",
       "       [30, 36, 31],\n",
       "       [12, 18, 13],\n",
       "       [17, 18, 12],\n",
       "       [21, 22, 16],\n",
       "       [22, 17, 16],\n",
       "       [40, 36, 35],\n",
       "       [36, 40, 41],\n",
       "       [46, 40, 45],\n",
       "       [41, 40, 46],\n",
       "       [34, 40, 35],\n",
       "       [39, 40, 34],\n",
       "       [40, 44, 45],\n",
       "       [40, 39, 44],\n",
       "       [26, 22, 21],\n",
       "       [22, 26, 27],\n",
       "       [26, 32, 27],\n",
       "       [32, 26, 31],\n",
       "       [23, 27, 28],\n",
       "       [23, 22, 27],\n",
       "       [23, 18, 17],\n",
       "       [22, 23, 17],\n",
       "       [30, 25, 29],\n",
       "       [25, 24, 29],\n",
       "       [19, 25, 20],\n",
       "       [24, 25, 19],\n",
       "       [25, 30, 31],\n",
       "       [26, 25, 31],\n",
       "       [25, 21, 20],\n",
       "       [25, 26, 21]], dtype=int32)"
      ]
     },
     "execution_count": 29,
     "metadata": {},
     "output_type": "execute_result"
    }
   ],
   "source": [
    "for i in range(len(olPP)):\n",
    "    pos = np.where(tri_add_simplices_mod == (i + tri.points.shape[0] - len(olPP)))\n",
    "    print(pos)\n",
    "    for j in range(len(pos[0])):\n",
    "        tri_add_simplices_mod[pos[0][j]][pos[1][j]] = olPP[i]\n",
    "tri_add_simplices_mod"
   ]
  },
  {
   "cell_type": "code",
   "execution_count": 30,
   "metadata": {},
   "outputs": [
    {
     "data": {
      "text/plain": [
       "array([[ 1,  4,  2],\n",
       "       [ 4,  5,  2],\n",
       "       [ 3,  4,  0],\n",
       "       [ 4,  1,  0],\n",
       "       [ 4,  8,  5],\n",
       "       [ 4,  7,  8],\n",
       "       [ 4,  3,  6],\n",
       "       [ 7,  4,  6],\n",
       "       [19, 14,  2],\n",
       "       [29, 24,  5],\n",
       "       [14,  9,  2],\n",
       "       [59, 54,  8],\n",
       "       [54, 49,  8],\n",
       "       [34, 29,  5],\n",
       "       [44, 39,  5],\n",
       "       [39, 34,  5],\n",
       "       [49, 44,  8],\n",
       "       [44,  5,  8],\n",
       "       [44, 49, 50],\n",
       "       [45, 44, 50],\n",
       "       [24, 19,  2],\n",
       "       [ 5, 24,  2],\n",
       "       [ 9, 15, 10],\n",
       "       [15,  9, 14],\n",
       "       [15, 19, 20],\n",
       "       [15, 14, 19],\n",
       "       [51, 45, 50],\n",
       "       [51, 46, 45],\n",
       "       [15, 11, 10],\n",
       "       [11, 15, 16],\n",
       "       [21, 15, 20],\n",
       "       [15, 21, 16],\n",
       "       [55, 51, 50],\n",
       "       [51, 55, 56],\n",
       "       [49, 55, 50],\n",
       "       [54, 55, 49],\n",
       "       [43, 38, 37],\n",
       "       [42, 43, 37],\n",
       "       [51, 47, 46],\n",
       "       [47, 51, 52],\n",
       "       [47, 53, 48],\n",
       "       [53, 47, 52],\n",
       "       [47, 41, 46],\n",
       "       [41, 47, 42],\n",
       "       [47, 43, 42],\n",
       "       [43, 47, 48],\n",
       "       [53, 57, 58],\n",
       "       [57, 53, 52],\n",
       "       [51, 57, 52],\n",
       "       [57, 51, 56],\n",
       "       [58, 57, 63],\n",
       "       [57, 62, 63],\n",
       "       [62, 57, 61],\n",
       "       [57, 56, 61],\n",
       "       [17, 11, 16],\n",
       "       [11, 17, 12],\n",
       "       [55, 60, 56],\n",
       "       [56, 60, 61],\n",
       "       [60, 55, 54],\n",
       "       [60, 54, 59],\n",
       "       [30, 34, 35],\n",
       "       [34, 30, 29],\n",
       "       [32, 33, 28],\n",
       "       [27, 32, 28],\n",
       "       [33, 32, 38],\n",
       "       [38, 32, 37],\n",
       "       [32, 36, 37],\n",
       "       [36, 32, 31],\n",
       "       [36, 41, 42],\n",
       "       [36, 42, 37],\n",
       "       [36, 30, 35],\n",
       "       [30, 36, 31],\n",
       "       [12, 18, 13],\n",
       "       [17, 18, 12],\n",
       "       [21, 22, 16],\n",
       "       [22, 17, 16],\n",
       "       [40, 36, 35],\n",
       "       [36, 40, 41],\n",
       "       [46, 40, 45],\n",
       "       [41, 40, 46],\n",
       "       [34, 40, 35],\n",
       "       [39, 40, 34],\n",
       "       [40, 44, 45],\n",
       "       [40, 39, 44],\n",
       "       [26, 22, 21],\n",
       "       [22, 26, 27],\n",
       "       [26, 32, 27],\n",
       "       [32, 26, 31],\n",
       "       [23, 27, 28],\n",
       "       [23, 22, 27],\n",
       "       [23, 18, 17],\n",
       "       [22, 23, 17],\n",
       "       [30, 25, 29],\n",
       "       [25, 24, 29],\n",
       "       [19, 25, 20],\n",
       "       [24, 25, 19],\n",
       "       [25, 30, 31],\n",
       "       [26, 25, 31],\n",
       "       [25, 21, 20],\n",
       "       [25, 26, 21]], dtype=int32)"
      ]
     },
     "execution_count": 30,
     "metadata": {},
     "output_type": "execute_result"
    }
   ],
   "source": [
    "tri_final_simplices = np.concatenate((tri.simplices, tri_add_simplices_mod), axis=0)\n",
    "tri_final_simplices "
   ]
  },
  {
   "cell_type": "code",
   "execution_count": 35,
   "metadata": {},
   "outputs": [
    {
     "data": {
      "image/png": "[encoded data removed]",
      "text/plain": [
       "<Figure size 432x288 with 1 Axes>"
      ]
     },
     "metadata": {
      "needs_background": "light"
     },
     "output_type": "display_data"
    }
   ],
   "source": [
    "plt.triplot(tri_final_points[:,0], tri_final_points[:,1], tri_final_simplices)\n",
    "plt.show()"
   ]
  },
  {
   "cell_type": "code",
   "execution_count": 32,
   "metadata": {},
   "outputs": [
    {
     "data": {
      "text/plain": [
       "64"
      ]
     },
     "execution_count": 32,
     "metadata": {},
     "output_type": "execute_result"
    }
   ],
   "source": [
    "len(tri_final_points[:,0])"
   ]
  },
  {
   "cell_type": "code",
   "execution_count": null,
   "metadata": {},
   "outputs": [],
   "source": []
  }
 ],
 "metadata": {
  "kernelspec": {
   "display_name": "Python 3",
   "language": "python",
   "name": "python3"
  },
  "language_info": {
   "codemirror_mode": {
    "name": "ipython",
    "version": 3
   },
   "file_extension": ".py",
   "mimetype": "text/x-python",
   "name": "python",
   "nbconvert_exporter": "python",
   "pygments_lexer": "ipython3",
   "version": "3.8.5"
  }
 },
 "nbformat": 4,
 "nbformat_minor": 4
}
