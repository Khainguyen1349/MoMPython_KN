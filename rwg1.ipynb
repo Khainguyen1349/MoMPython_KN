{
 "cells": [
  {
   "cell_type": "code",
   "execution_count": 1,
   "metadata": {},
   "outputs": [],
   "source": [
    "from os.path import dirname, join as pjoin\n",
    "import scipy.io as sio\n",
    "import numpy as np"
   ]
  },
  {
   "cell_type": "code",
   "execution_count": 2,
   "metadata": {},
   "outputs": [],
   "source": [
    "def any(iterable):\n",
    "    for element in iterable:\n",
    "        if element:\n",
    "            return True\n",
    "    return False"
   ]
  },
  {
   "cell_type": "code",
   "execution_count": 3,
   "metadata": {},
   "outputs": [
    {
     "name": "stdout",
     "output_type": "stream",
     "text": [
      "mesh\\strip2.mat\n"
     ]
    }
   ],
   "source": [
    "mat_fname = pjoin('mesh', 'strip2.mat')\n",
    "\n",
    "print(mat_fname)\n",
    "\n",
    "mat_contents = sio.loadmat(mat_fname)"
   ]
  },
  {
   "cell_type": "code",
   "execution_count": 4,
   "metadata": {},
   "outputs": [],
   "source": [
    "p = mat_contents['p']\n",
    "t = mat_contents['t']"
   ]
  },
  {
   "cell_type": "code",
   "execution_count": 5,
   "metadata": {},
   "outputs": [
    {
     "data": {
      "text/plain": [
       "(3, 234)"
      ]
     },
     "execution_count": 5,
     "metadata": {},
     "output_type": "execute_result"
    }
   ],
   "source": [
    "[s1,s2] = p.shape\n",
    "s1,s2"
   ]
  },
  {
   "cell_type": "code",
   "execution_count": 6,
   "metadata": {},
   "outputs": [],
   "source": [
    "if s1 == 2:\n",
    "    print(\"Add third dimension\")\n",
    "    p = np.append(p,np.zeros((1,s2)),axis=0) "
   ]
  },
  {
   "cell_type": "code",
   "execution_count": 7,
   "metadata": {},
   "outputs": [
    {
     "data": {
      "text/plain": [
       "(3, 234)"
      ]
     },
     "execution_count": 7,
     "metadata": {},
     "output_type": "execute_result"
    }
   ],
   "source": [
    "p.shape"
   ]
  },
  {
   "cell_type": "code",
   "execution_count": 8,
   "metadata": {},
   "outputs": [
    {
     "data": {
      "text/plain": [
       "244"
      ]
     },
     "execution_count": 8,
     "metadata": {},
     "output_type": "execute_result"
    }
   ],
   "source": [
    "TrianglesTotal=t.shape[1]\n",
    "TrianglesTotal"
   ]
  },
  {
   "cell_type": "markdown",
   "metadata": {},
   "source": [
    "Find areas of separate triangles"
   ]
  },
  {
   "cell_type": "code",
   "execution_count": 9,
   "metadata": {},
   "outputs": [],
   "source": [
    "Area = np.zeros(TrianglesTotal)\n",
    "Center = np.zeros((3,TrianglesTotal))\n",
    "for m in range(TrianglesTotal):\n",
    "        N = t[0:3,m]-1\n",
    "        #print(N)\n",
    "        Vec1 = p[:,N[0]] - p[:,N[1]]\n",
    "        Vec2 = p[:,N[2]] - p[:,N[1]]\n",
    "        Area[m] = np.linalg.norm(np.cross(Vec1,Vec2))/2\n",
    "        Center[:,m]=1/3*sum(p[:,N],1)"
   ]
  },
  {
   "cell_type": "code",
   "execution_count": 10,
   "metadata": {},
   "outputs": [
    {
     "name": "stdout",
     "output_type": "stream",
     "text": [
      "(244,)\n",
      "(3, 244)\n"
     ]
    }
   ],
   "source": [
    "print(Area.shape)\n",
    "print(Center.shape)"
   ]
  },
  {
   "cell_type": "markdown",
   "metadata": {},
   "source": [
    "Find all edge elements \"Edge_\" with at least two adjacent triangles"
   ]
  },
  {
   "cell_type": "code",
   "execution_count": 11,
   "metadata": {},
   "outputs": [],
   "source": [
    "n = 0\n",
    "Edge_l = []\n",
    "TrianglePlus = []\n",
    "TriangleMinus = []\n",
    "for m in range(TrianglesTotal):\n",
    "    N = t[0:3,m] - 1 \n",
    "    for k in range(m+1,TrianglesTotal):\n",
    "        M = t[0:3,k] - 1      \n",
    "        a = 1 - np.array([1 if i else 0 for i in [all(N-M[0]),all(N-M[1]),all(N-M[2])]])\n",
    "        if(sum(a)==2): #triangles m and k have common edge\n",
    "            Edge_l.append([M[i] for i,j in enumerate(a) if j]); \n",
    "            TrianglePlus.append(m);\n",
    "            TriangleMinus.append(k); \n",
    "            n = n + 1;"
   ]
  },
  {
   "cell_type": "code",
   "execution_count": 12,
   "metadata": {},
   "outputs": [
    {
     "name": "stdout",
     "output_type": "stream",
     "text": [
      "[  1   0 233]\n",
      "[  4   1 233]\n"
     ]
    }
   ],
   "source": [
    "N = t[0:3,0] - 1\n",
    "M = t[0:3,1] - 1\n",
    "print(N)\n",
    "print(M)"
   ]
  },
  {
   "cell_type": "code",
   "execution_count": 13,
   "metadata": {},
   "outputs": [
    {
     "name": "stdout",
     "output_type": "stream",
     "text": [
      "(2, 255)\n",
      "(2, 255)\n"
     ]
    }
   ],
   "source": [
    "Edge_ = np.transpose(np.array(Edge_l))\n",
    "Edge__ = np.transpose(np.array([[i[1], i[0]] for i in Edge_l]))\n",
    "print(Edge_.shape)\n",
    "print(Edge__.shape)"
   ]
  },
  {
   "cell_type": "code",
   "execution_count": 14,
   "metadata": {},
   "outputs": [
    {
     "data": {
      "text/plain": [
       "array([[  1,   0,   4,   5, 230,   6, 228,   7,   6,   8,   7,   9,   8,\n",
       "         10, 216,  11, 215,  12, 214,  13, 213,  14, 212,  15, 211,  16,\n",
       "        210,  17, 209,  18, 208,  19, 207,  20, 206,  21, 205,  22, 204,\n",
       "         23, 203,  24, 202,  25, 201,  26, 200,  27, 199,  28, 198,  29,\n",
       "        197,  30, 196,  31, 195,  32, 194,  33, 193,  34, 192,  35, 191,\n",
       "         36, 190,  37, 189,  38, 188,  39, 187,  40, 186,  41, 185,  42,\n",
       "        184,  43, 183,  44, 182,  45, 181,  46, 180,  47, 179,  48, 178,\n",
       "         49, 177,  50, 176,  51, 175,  52, 174,  53, 173,  54, 172,  55,\n",
       "        171,  56, 170,  57, 169,  58, 168,   3,   2,  59, 167,  60, 166,\n",
       "         61, 165,  62, 164,  63, 163,  64, 162,  65, 161,  66, 160,  67,\n",
       "        159,  68, 158,  69, 157,  70, 156,  71, 155,  72, 154,  73, 153,\n",
       "         74, 152,  75, 151,  76, 150,  77, 149,  78, 148,  79, 147,  80,\n",
       "        146,  81, 145,  82, 144,  83, 143,  84, 142,  85, 141,  86, 140,\n",
       "         87, 139,  88, 138,  89, 137,  90, 136,  91, 135,  92, 134,  93,\n",
       "        133,  94, 132,  95, 131,  96, 130,  97, 129,  98, 128,  99, 127,\n",
       "        100, 126, 101, 125, 102, 124, 103, 123, 104, 122, 105, 121, 106,\n",
       "        120, 107, 119, 108, 107, 109, 108, 110, 109, 110, 111, 111, 112,\n",
       "        113, 112, 114, 231, 115, 110, 116, 109, 117, 108, 107, 216,   8,\n",
       "        217,   7, 218,   6, 219, 228, 118, 217, 218, 117, 219, 116, 220,\n",
       "        220, 221, 115, 229, 230, 229, 231, 221],\n",
       "       [233, 233, 233, 230,   4, 228,   5, 226, 226, 224, 224, 223, 223,\n",
       "        216,   9, 215,  10, 214,  11, 213,  12, 212,  13, 211,  14, 210,\n",
       "         15, 209,  16, 208,  17, 207,  18, 206,  19, 205,  20, 204,  21,\n",
       "        203,  22, 202,  23, 201,  24, 200,  25, 199,  26, 198,  27, 197,\n",
       "         28, 196,  29, 195,  30, 194,  31, 193,  32, 192,  33, 191,  34,\n",
       "        190,  35, 189,  36, 188,  37, 187,  38, 186,  39, 185,  40, 184,\n",
       "         41, 183,  42, 182,  43, 181,  44, 180,  45, 179,  46, 178,  47,\n",
       "        177,  48, 176,  49, 175,  50, 174,  51, 173,  52, 172,  53, 171,\n",
       "         54, 170,  55, 169,  56, 168,  57, 232, 232, 167,  58, 166,  59,\n",
       "        165,  60, 164,  61, 163,  62, 162,  63, 161,  64, 160,  65, 159,\n",
       "         66, 158,  67, 157,  68, 156,  69, 155,  70, 154,  71, 153,  72,\n",
       "        152,  73, 151,  74, 150,  75, 149,  76, 148,  77, 147,  78, 146,\n",
       "         79, 145,  80, 144,  81, 143,  82, 142,  83, 141,  84, 140,  85,\n",
       "        139,  86, 138,  87, 137,  88, 136,  89, 135,  90, 134,  91, 133,\n",
       "         92, 132,  93, 131,  94, 130,  95, 129,  96, 128,  97, 127,  98,\n",
       "        126,  99, 125, 100, 124, 101, 123, 102, 122, 103, 121, 104, 120,\n",
       "        105, 119, 106, 222, 222, 225, 225, 227, 227, 229, 229, 231, 231,\n",
       "        232, 232, 231, 113, 227, 115, 225, 116, 222, 117, 118, 223, 217,\n",
       "        224, 218, 226, 219, 228, 230, 222, 223, 224, 225, 226, 227, 228,\n",
       "        230, 230, 229, 114, 233, 231, 232, 233]], dtype=uint8)"
      ]
     },
     "execution_count": 14,
     "metadata": {},
     "output_type": "execute_result"
    }
   ],
   "source": [
    "Edge_"
   ]
  },
  {
   "cell_type": "code",
   "execution_count": 15,
   "metadata": {},
   "outputs": [
    {
     "data": {
      "text/plain": [
       "array([[233, 233, 233, 230,   4, 228,   5, 226, 226, 224, 224, 223, 223,\n",
       "        216,   9, 215,  10, 214,  11, 213,  12, 212,  13, 211,  14, 210,\n",
       "         15, 209,  16, 208,  17, 207,  18, 206,  19, 205,  20, 204,  21,\n",
       "        203,  22, 202,  23, 201,  24, 200,  25, 199,  26, 198,  27, 197,\n",
       "         28, 196,  29, 195,  30, 194,  31, 193,  32, 192,  33, 191,  34,\n",
       "        190,  35, 189,  36, 188,  37, 187,  38, 186,  39, 185,  40, 184,\n",
       "         41, 183,  42, 182,  43, 181,  44, 180,  45, 179,  46, 178,  47,\n",
       "        177,  48, 176,  49, 175,  50, 174,  51, 173,  52, 172,  53, 171,\n",
       "         54, 170,  55, 169,  56, 168,  57, 232, 232, 167,  58, 166,  59,\n",
       "        165,  60, 164,  61, 163,  62, 162,  63, 161,  64, 160,  65, 159,\n",
       "         66, 158,  67, 157,  68, 156,  69, 155,  70, 154,  71, 153,  72,\n",
       "        152,  73, 151,  74, 150,  75, 149,  76, 148,  77, 147,  78, 146,\n",
       "         79, 145,  80, 144,  81, 143,  82, 142,  83, 141,  84, 140,  85,\n",
       "        139,  86, 138,  87, 137,  88, 136,  89, 135,  90, 134,  91, 133,\n",
       "         92, 132,  93, 131,  94, 130,  95, 129,  96, 128,  97, 127,  98,\n",
       "        126,  99, 125, 100, 124, 101, 123, 102, 122, 103, 121, 104, 120,\n",
       "        105, 119, 106, 222, 222, 225, 225, 227, 227, 229, 229, 231, 231,\n",
       "        232, 232, 231, 113, 227, 115, 225, 116, 222, 117, 118, 223, 217,\n",
       "        224, 218, 226, 219, 228, 230, 222, 223, 224, 225, 226, 227, 228,\n",
       "        230, 230, 229, 114, 233, 231, 232, 233],\n",
       "       [  1,   0,   4,   5, 230,   6, 228,   7,   6,   8,   7,   9,   8,\n",
       "         10, 216,  11, 215,  12, 214,  13, 213,  14, 212,  15, 211,  16,\n",
       "        210,  17, 209,  18, 208,  19, 207,  20, 206,  21, 205,  22, 204,\n",
       "         23, 203,  24, 202,  25, 201,  26, 200,  27, 199,  28, 198,  29,\n",
       "        197,  30, 196,  31, 195,  32, 194,  33, 193,  34, 192,  35, 191,\n",
       "         36, 190,  37, 189,  38, 188,  39, 187,  40, 186,  41, 185,  42,\n",
       "        184,  43, 183,  44, 182,  45, 181,  46, 180,  47, 179,  48, 178,\n",
       "         49, 177,  50, 176,  51, 175,  52, 174,  53, 173,  54, 172,  55,\n",
       "        171,  56, 170,  57, 169,  58, 168,   3,   2,  59, 167,  60, 166,\n",
       "         61, 165,  62, 164,  63, 163,  64, 162,  65, 161,  66, 160,  67,\n",
       "        159,  68, 158,  69, 157,  70, 156,  71, 155,  72, 154,  73, 153,\n",
       "         74, 152,  75, 151,  76, 150,  77, 149,  78, 148,  79, 147,  80,\n",
       "        146,  81, 145,  82, 144,  83, 143,  84, 142,  85, 141,  86, 140,\n",
       "         87, 139,  88, 138,  89, 137,  90, 136,  91, 135,  92, 134,  93,\n",
       "        133,  94, 132,  95, 131,  96, 130,  97, 129,  98, 128,  99, 127,\n",
       "        100, 126, 101, 125, 102, 124, 103, 123, 104, 122, 105, 121, 106,\n",
       "        120, 107, 119, 108, 107, 109, 108, 110, 109, 110, 111, 111, 112,\n",
       "        113, 112, 114, 231, 115, 110, 116, 109, 117, 108, 107, 216,   8,\n",
       "        217,   7, 218,   6, 219, 228, 118, 217, 218, 117, 219, 116, 220,\n",
       "        220, 221, 115, 229, 230, 229, 231, 221]], dtype=uint8)"
      ]
     },
     "execution_count": 15,
     "metadata": {},
     "output_type": "execute_result"
    }
   ],
   "source": [
    "Edge__"
   ]
  },
  {
   "cell_type": "code",
   "execution_count": 16,
   "metadata": {},
   "outputs": [
    {
     "data": {
      "text/plain": [
       "255"
      ]
     },
     "execution_count": 16,
     "metadata": {},
     "output_type": "execute_result"
    }
   ],
   "source": [
    "EdgesTotal = len(Edge_l)\n",
    "EdgesTotal"
   ]
  },
  {
   "cell_type": "markdown",
   "metadata": {},
   "source": [
    "This block is only meaningful for T junctions. It leaves only two edge elements at a junction"
   ]
  },
  {
   "cell_type": "code",
   "execution_count": 17,
   "metadata": {},
   "outputs": [],
   "source": [
    "Remove = []"
   ]
  },
  {
   "cell_type": "code",
   "execution_count": 112,
   "metadata": {},
   "outputs": [],
   "source": [
    "for m in range(1,EdgesTotal):\n",
    "    Edge_m = np.transpose(np.tile([np.array(Edge_)[:,m]],(EdgesTotal,1)))\n",
    "    Edge_sup = list(Edge_  -Edge_m)\n",
    "    Edge__sup = list(Edge__  -Edge_m)\n",
    "    Ind1 = [0 if (Edge_sup[0][i] == 0) and (Edge_sup[1][i] == 0) else 1 for i in range(EdgesTotal)]\n",
    "    Ind2 = [0 if (Edge__sup[0][i] == 0) and (Edge__sup[1][i] == 0) else 1 for i in range(EdgesTotal)]\n",
    "    A_ = [i*j for i,j in zip(Ind1,Ind2)]\n",
    "    A = [i for i,j in enumerate(A_) if j == 0]\n",
    "    if(len(A)==3):    #three elements formally exist at a junction   \n",
    "        print(\"There is a junction!! Stop!!\")\n",
    "        #Out=find(t(4,TrianglePlus(A))==t(4,TriangleMinus(A)));\n",
    "        #Remove=[Remove A(Out)];\n"
   ]
  },
  {
   "cell_type": "code",
   "execution_count": 117,
   "metadata": {},
   "outputs": [],
   "source": [
    "#np.array(list(Edge_).pop(Remove))\n",
    "#TrianglePlus.pop(Remove)\n",
    "#TriangleMinus.pop(Remove)\n",
    "#EdgesTotal=len(Edge_)"
   ]
  },
  {
   "cell_type": "code",
   "execution_count": 122,
   "metadata": {},
   "outputs": [],
   "source": [
    "EdgeIndicator = t[3,TrianglePlus] + t[3,TriangleMinus];"
   ]
  },
  {
   "cell_type": "code",
   "execution_count": 124,
   "metadata": {},
   "outputs": [
    {
     "data": {
      "text/plain": [
       "255"
      ]
     },
     "execution_count": 124,
     "metadata": {},
     "output_type": "execute_result"
    }
   ],
   "source": [
    "len(EdgeIndicator)"
   ]
  },
  {
   "cell_type": "code",
   "execution_count": null,
   "metadata": {},
   "outputs": [],
   "source": []
  }
 ],
 "metadata": {
  "kernelspec": {
   "display_name": "Python 3",
   "language": "python",
   "name": "python3"
  },
  "language_info": {
   "codemirror_mode": {
    "name": "ipython",
    "version": 3
   },
   "file_extension": ".py",
   "mimetype": "text/x-python",
   "name": "python",
   "nbconvert_exporter": "python",
   "pygments_lexer": "ipython3",
   "version": "3.8.5"
  }
 },
 "nbformat": 4,
 "nbformat_minor": 4
}
