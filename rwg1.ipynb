{
 "cells": [
  {
   "cell_type": "code",
   "execution_count": 1,
   "metadata": {},
   "outputs": [],
   "source": [
    "from os.path import dirname, join as pjoin\n",
    "import scipy.io as sio"
   ]
  },
  {
   "cell_type": "code",
   "execution_count": 2,
   "metadata": {},
   "outputs": [
    {
     "name": "stdout",
     "output_type": "stream",
     "text": [
      "mesh\\strip2.mat\n"
     ]
    }
   ],
   "source": [
    "mat_fname = pjoin('mesh', 'strip2.mat')\n",
    "\n",
    "print(mat_fname)\n",
    "\n",
    "mat_contents = sio.loadmat(mat_fname)"
   ]
  },
  {
   "cell_type": "code",
   "execution_count": 3,
   "metadata": {},
   "outputs": [
    {
     "name": "stdout",
     "output_type": "stream",
     "text": [
      "float64\n"
     ]
    }
   ],
   "source": [
    "print(mat_contents['p'].dtype)"
   ]
  },
  {
   "cell_type": "code",
   "execution_count": 7,
   "metadata": {},
   "outputs": [
    {
     "data": {
      "text/plain": [
       "(3, 234)"
      ]
     },
     "execution_count": 7,
     "metadata": {},
     "output_type": "execute_result"
    }
   ],
   "source": [
    "mat_contents['p'].shape"
   ]
  },
  {
   "cell_type": "code",
   "execution_count": 11,
   "metadata": {},
   "outputs": [
    {
     "name": "stdout",
     "output_type": "stream",
     "text": [
      "[0.01 1.   0.  ]\n"
     ]
    }
   ],
   "source": [
    "print(mat_contents['p'][:,1])"
   ]
  },
  {
   "cell_type": "code",
   "execution_count": 12,
   "metadata": {},
   "outputs": [
    {
     "name": "stdout",
     "output_type": "stream",
     "text": [
      "[ 1.          1.         -1.         -1.          0.99073154  0.98099966\n",
      "  0.97078119  0.96005179  0.94878592  0.93695676  0.92453614  0.91149449\n",
      "  0.89780076  0.88342234  0.868325    0.85247279  0.83582797  0.81835091\n",
      "  0.8         0.78        0.76        0.74        0.72        0.7\n",
      "  0.68        0.66        0.64        0.62        0.6         0.58\n",
      "  0.56        0.54        0.52        0.5         0.48        0.46\n",
      "  0.44        0.42        0.4         0.38        0.36        0.34\n",
      "  0.32        0.3         0.28        0.26        0.24        0.22\n",
      "  0.2         0.18        0.16        0.14        0.12        0.1\n",
      "  0.08        0.06        0.04        0.02        0.         -0.02\n",
      " -0.04       -0.06       -0.08       -0.1        -0.12       -0.14\n",
      " -0.16       -0.18       -0.2        -0.22       -0.24       -0.26\n",
      " -0.28       -0.3        -0.32       -0.34       -0.36       -0.38\n",
      " -0.4        -0.42       -0.44       -0.46       -0.48       -0.5\n",
      " -0.52       -0.54       -0.56       -0.58       -0.6        -0.62\n",
      " -0.64       -0.66       -0.68       -0.7        -0.72       -0.74\n",
      " -0.76       -0.78       -0.8        -0.81835091 -0.83582797 -0.85247279\n",
      " -0.868325   -0.88342234 -0.89780076 -0.91149449 -0.92453614 -0.93695676\n",
      " -0.94878592 -0.96005179 -0.97078119 -0.98099966 -0.99073154 -0.99073154\n",
      " -0.98099966 -0.97078119 -0.96005179 -0.94878592 -0.93695676 -0.92453614\n",
      " -0.91149449 -0.89780076 -0.88342234 -0.868325   -0.85247279 -0.83582797\n",
      " -0.81835091 -0.8        -0.78       -0.76       -0.74       -0.72\n",
      " -0.7        -0.68       -0.66       -0.64       -0.62       -0.6\n",
      " -0.58       -0.56       -0.54       -0.52       -0.5        -0.48\n",
      " -0.46       -0.44       -0.42       -0.4        -0.38       -0.36\n",
      " -0.34       -0.32       -0.3        -0.28       -0.26       -0.24\n",
      " -0.22       -0.2        -0.18       -0.16       -0.14       -0.12\n",
      " -0.1        -0.08       -0.06       -0.04       -0.02        0.\n",
      "  0.02        0.04        0.06        0.08        0.1         0.12\n",
      "  0.14        0.16        0.18        0.2         0.22        0.24\n",
      "  0.26        0.28        0.3         0.32        0.34        0.36\n",
      "  0.38        0.4         0.42        0.44        0.46        0.48\n",
      "  0.5         0.52        0.54        0.56        0.58        0.6\n",
      "  0.62        0.64        0.66        0.68        0.7         0.72\n",
      "  0.74        0.76        0.78        0.8         0.81835091  0.83582797\n",
      "  0.85247279  0.868325    0.88342234  0.89780076  0.91149449  0.92453614\n",
      "  0.93695676  0.94878592  0.96005179  0.97078119  0.98099966  0.99073154\n",
      " -0.94287134  0.94287134  0.95441886 -0.95441886  0.96541649 -0.96541649\n",
      "  0.97788546 -0.97788546  0.98578643 -0.98578643 -0.99346574  0.99346574]\n"
     ]
    }
   ],
   "source": [
    "print(mat_contents['p'][1,:])"
   ]
  },
  {
   "cell_type": "code",
   "execution_count": null,
   "metadata": {},
   "outputs": [],
   "source": []
  }
 ],
 "metadata": {
  "kernelspec": {
   "display_name": "Python 3",
   "language": "python",
   "name": "python3"
  },
  "language_info": {
   "codemirror_mode": {
    "name": "ipython",
    "version": 3
   },
   "file_extension": ".py",
   "mimetype": "text/x-python",
   "name": "python",
   "nbconvert_exporter": "python",
   "pygments_lexer": "ipython3",
   "version": "3.8.5"
  }
 },
 "nbformat": 4,
 "nbformat_minor": 4
}
